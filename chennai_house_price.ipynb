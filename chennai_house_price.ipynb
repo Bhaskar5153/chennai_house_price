{
 "cells": [
  {
   "cell_type": "code",
   "execution_count": 448,
   "id": "ff9c9c32",
   "metadata": {},
   "outputs": [],
   "source": [
    "import numpy as np\n",
    "import pandas as pd\n",
    "import seaborn as sns\n",
    "import matplotlib.pyplot as plt"
   ]
  },
  {
   "cell_type": "code",
   "execution_count": 449,
   "id": "084a60dd",
   "metadata": {},
   "outputs": [],
   "source": [
    "df = pd.read_csv('data/clean_data.csv')"
   ]
  },
  {
   "cell_type": "code",
   "execution_count": 450,
   "id": "7379f60f",
   "metadata": {},
   "outputs": [
    {
     "data": {
      "text/html": [
       "<div>\n",
       "<style scoped>\n",
       "    .dataframe tbody tr th:only-of-type {\n",
       "        vertical-align: middle;\n",
       "    }\n",
       "\n",
       "    .dataframe tbody tr th {\n",
       "        vertical-align: top;\n",
       "    }\n",
       "\n",
       "    .dataframe thead th {\n",
       "        text-align: right;\n",
       "    }\n",
       "</style>\n",
       "<table border=\"1\" class=\"dataframe\">\n",
       "  <thead>\n",
       "    <tr style=\"text-align: right;\">\n",
       "      <th></th>\n",
       "      <th>price</th>\n",
       "      <th>area</th>\n",
       "      <th>status</th>\n",
       "      <th>bhk</th>\n",
       "      <th>bathroom</th>\n",
       "      <th>age</th>\n",
       "      <th>location</th>\n",
       "      <th>builder</th>\n",
       "    </tr>\n",
       "  </thead>\n",
       "  <tbody>\n",
       "    <tr>\n",
       "      <th>0</th>\n",
       "      <td>37.49</td>\n",
       "      <td>872</td>\n",
       "      <td>Ready to move</td>\n",
       "      <td>2</td>\n",
       "      <td>NaN</td>\n",
       "      <td>1.0</td>\n",
       "      <td>Sembakkam</td>\n",
       "      <td>MP Developers</td>\n",
       "    </tr>\n",
       "    <tr>\n",
       "      <th>1</th>\n",
       "      <td>93.54</td>\n",
       "      <td>1346</td>\n",
       "      <td>Under Construction</td>\n",
       "      <td>3</td>\n",
       "      <td>2.0</td>\n",
       "      <td>NaN</td>\n",
       "      <td>Selaiyur</td>\n",
       "      <td>DAC Promoters</td>\n",
       "    </tr>\n",
       "    <tr>\n",
       "      <th>2</th>\n",
       "      <td>151.00</td>\n",
       "      <td>2225</td>\n",
       "      <td>Under Construction</td>\n",
       "      <td>3</td>\n",
       "      <td>NaN</td>\n",
       "      <td>0.0</td>\n",
       "      <td>Mogappair</td>\n",
       "      <td>Casagrand Builder Private Limited</td>\n",
       "    </tr>\n",
       "    <tr>\n",
       "      <th>3</th>\n",
       "      <td>49.00</td>\n",
       "      <td>1028</td>\n",
       "      <td>Ready to move</td>\n",
       "      <td>2</td>\n",
       "      <td>2.0</td>\n",
       "      <td>3.0</td>\n",
       "      <td>Ambattur</td>\n",
       "      <td>Dugar Housing Builders</td>\n",
       "    </tr>\n",
       "    <tr>\n",
       "      <th>4</th>\n",
       "      <td>42.28</td>\n",
       "      <td>588</td>\n",
       "      <td>Under Construction</td>\n",
       "      <td>2</td>\n",
       "      <td>1.0</td>\n",
       "      <td>0.0</td>\n",
       "      <td>Pallavaram</td>\n",
       "      <td>Radiance Realty Developers India Ltd</td>\n",
       "    </tr>\n",
       "  </tbody>\n",
       "</table>\n",
       "</div>"
      ],
      "text/plain": [
       "    price  area              status  bhk  bathroom  age    location  \\\n",
       "0   37.49   872       Ready to move    2       NaN  1.0   Sembakkam   \n",
       "1   93.54  1346  Under Construction    3       2.0  NaN    Selaiyur   \n",
       "2  151.00  2225  Under Construction    3       NaN  0.0   Mogappair   \n",
       "3   49.00  1028       Ready to move    2       2.0  3.0    Ambattur   \n",
       "4   42.28   588  Under Construction    2       1.0  0.0  Pallavaram   \n",
       "\n",
       "                                builder  \n",
       "0                         MP Developers  \n",
       "1                         DAC Promoters  \n",
       "2     Casagrand Builder Private Limited  \n",
       "3                Dugar Housing Builders  \n",
       "4  Radiance Realty Developers India Ltd  "
      ]
     },
     "execution_count": 450,
     "metadata": {},
     "output_type": "execute_result"
    }
   ],
   "source": [
    "df.head()"
   ]
  },
  {
   "cell_type": "code",
   "execution_count": 451,
   "id": "7a83e9bd",
   "metadata": {},
   "outputs": [
    {
     "data": {
      "text/plain": [
       "(2620, 8)"
      ]
     },
     "execution_count": 451,
     "metadata": {},
     "output_type": "execute_result"
    }
   ],
   "source": [
    "df.shape"
   ]
  },
  {
   "cell_type": "code",
   "execution_count": 452,
   "id": "bd303448",
   "metadata": {},
   "outputs": [
    {
     "data": {
      "text/plain": [
       "price          0\n",
       "area           0\n",
       "status         0\n",
       "bhk            0\n",
       "bathroom    1217\n",
       "age          891\n",
       "location       0\n",
       "builder        0\n",
       "dtype: int64"
      ]
     },
     "execution_count": 452,
     "metadata": {},
     "output_type": "execute_result"
    }
   ],
   "source": [
    "df.isnull().sum()"
   ]
  },
  {
   "cell_type": "code",
   "execution_count": 453,
   "id": "60511bbb",
   "metadata": {},
   "outputs": [
    {
     "name": "stderr",
     "output_type": "stream",
     "text": [
      "C:\\ProgramData\\Anaconda3\\lib\\site-packages\\seaborn\\distributions.py:2619: FutureWarning: `distplot` is a deprecated function and will be removed in a future version. Please adapt your code to use either `displot` (a figure-level function with similar flexibility) or `histplot` (an axes-level function for histograms).\n",
      "  warnings.warn(msg, FutureWarning)\n",
      "C:\\ProgramData\\Anaconda3\\lib\\site-packages\\seaborn\\distributions.py:2103: FutureWarning: The `axis` variable is no longer used and will be removed. Instead, assign variables directly to `x` or `y`.\n",
      "  warnings.warn(msg, FutureWarning)\n"
     ]
    },
    {
     "data": {
      "image/png": "[encoded data removed]",
      "text/plain": [
       "<Figure size 864x360 with 1 Axes>"
      ]
     },
     "metadata": {
      "needs_background": "light"
     },
     "output_type": "display_data"
    }
   ],
   "source": [
    "plt.figure(figsize=(12, 5))\n",
    "sns.distplot(a=df['price'], kde=True, hist=True, rug=True, color='darkblue')\n",
    "plt.show()"
   ]
  },
  {
   "cell_type": "code",
   "execution_count": 454,
   "id": "b8e8a045",
   "metadata": {},
   "outputs": [
    {
     "name": "stdout",
     "output_type": "stream",
     "text": [
      "<class 'pandas.core.frame.DataFrame'>\n",
      "RangeIndex: 2620 entries, 0 to 2619\n",
      "Data columns (total 8 columns):\n",
      " #   Column    Non-Null Count  Dtype  \n",
      "---  ------    --------------  -----  \n",
      " 0   price     2620 non-null   float64\n",
      " 1   area      2620 non-null   int64  \n",
      " 2   status    2620 non-null   object \n",
      " 3   bhk       2620 non-null   int64  \n",
      " 4   bathroom  1403 non-null   float64\n",
      " 5   age       1729 non-null   float64\n",
      " 6   location  2620 non-null   object \n",
      " 7   builder   2620 non-null   object \n",
      "dtypes: float64(3), int64(2), object(3)\n",
      "memory usage: 163.9+ KB\n"
     ]
    }
   ],
   "source": [
    "df.info()"
   ]
  },
  {
   "cell_type": "code",
   "execution_count": 455,
   "id": "7de1bf08",
   "metadata": {},
   "outputs": [
    {
     "data": {
      "text/html": [
       "<div>\n",
       "<style scoped>\n",
       "    .dataframe tbody tr th:only-of-type {\n",
       "        vertical-align: middle;\n",
       "    }\n",
       "\n",
       "    .dataframe tbody tr th {\n",
       "        vertical-align: top;\n",
       "    }\n",
       "\n",
       "    .dataframe thead th {\n",
       "        text-align: right;\n",
       "    }\n",
       "</style>\n",
       "<table border=\"1\" class=\"dataframe\">\n",
       "  <thead>\n",
       "    <tr style=\"text-align: right;\">\n",
       "      <th></th>\n",
       "      <th>count</th>\n",
       "      <th>mean</th>\n",
       "      <th>std</th>\n",
       "      <th>min</th>\n",
       "      <th>25%</th>\n",
       "      <th>50%</th>\n",
       "      <th>75%</th>\n",
       "      <th>max</th>\n",
       "    </tr>\n",
       "  </thead>\n",
       "  <tbody>\n",
       "    <tr>\n",
       "      <th>price</th>\n",
       "      <td>2620.0</td>\n",
       "      <td>93.834683</td>\n",
       "      <td>113.609349</td>\n",
       "      <td>12.83</td>\n",
       "      <td>42.0</td>\n",
       "      <td>61.735</td>\n",
       "      <td>90.00</td>\n",
       "      <td>1422.0</td>\n",
       "    </tr>\n",
       "    <tr>\n",
       "      <th>area</th>\n",
       "      <td>2620.0</td>\n",
       "      <td>1282.925191</td>\n",
       "      <td>692.566319</td>\n",
       "      <td>300.00</td>\n",
       "      <td>877.0</td>\n",
       "      <td>1091.500</td>\n",
       "      <td>1471.25</td>\n",
       "      <td>6700.0</td>\n",
       "    </tr>\n",
       "    <tr>\n",
       "      <th>bhk</th>\n",
       "      <td>2620.0</td>\n",
       "      <td>2.443893</td>\n",
       "      <td>0.811984</td>\n",
       "      <td>1.00</td>\n",
       "      <td>2.0</td>\n",
       "      <td>2.000</td>\n",
       "      <td>3.00</td>\n",
       "      <td>8.0</td>\n",
       "    </tr>\n",
       "    <tr>\n",
       "      <th>bathroom</th>\n",
       "      <td>1403.0</td>\n",
       "      <td>2.359230</td>\n",
       "      <td>0.844951</td>\n",
       "      <td>1.00</td>\n",
       "      <td>2.0</td>\n",
       "      <td>2.000</td>\n",
       "      <td>3.00</td>\n",
       "      <td>7.0</td>\n",
       "    </tr>\n",
       "    <tr>\n",
       "      <th>age</th>\n",
       "      <td>1729.0</td>\n",
       "      <td>1.355119</td>\n",
       "      <td>2.102682</td>\n",
       "      <td>0.00</td>\n",
       "      <td>0.0</td>\n",
       "      <td>0.000</td>\n",
       "      <td>3.00</td>\n",
       "      <td>32.0</td>\n",
       "    </tr>\n",
       "  </tbody>\n",
       "</table>\n",
       "</div>"
      ],
      "text/plain": [
       "           count         mean         std     min    25%       50%      75%  \\\n",
       "price     2620.0    93.834683  113.609349   12.83   42.0    61.735    90.00   \n",
       "area      2620.0  1282.925191  692.566319  300.00  877.0  1091.500  1471.25   \n",
       "bhk       2620.0     2.443893    0.811984    1.00    2.0     2.000     3.00   \n",
       "bathroom  1403.0     2.359230    0.844951    1.00    2.0     2.000     3.00   \n",
       "age       1729.0     1.355119    2.102682    0.00    0.0     0.000     3.00   \n",
       "\n",
       "             max  \n",
       "price     1422.0  \n",
       "area      6700.0  \n",
       "bhk          8.0  \n",
       "bathroom     7.0  \n",
       "age         32.0  "
      ]
     },
     "execution_count": 455,
     "metadata": {},
     "output_type": "execute_result"
    }
   ],
   "source": [
    "df.describe().transpose()"
   ]
  },
  {
   "cell_type": "code",
   "execution_count": 456,
   "id": "e38d801e",
   "metadata": {},
   "outputs": [
    {
     "data": {
      "text/plain": [
       "<matplotlib.legend.Legend at 0x18bad77efd0>"
      ]
     },
     "execution_count": 456,
     "metadata": {},
     "output_type": "execute_result"
    },
    {
     "data": {
      "image/png": "[encoded data removed]",
      "text/plain": [
       "<Figure size 864x360 with 1 Axes>"
      ]
     },
     "metadata": {
      "needs_background": "light"
     },
     "output_type": "display_data"
    }
   ],
   "source": [
    "plt.figure(figsize=(12, 5))\n",
    "sns.scatterplot(x='area', y='price', data=df, hue='status')\n",
    "plt.legend(bbox_to_anchor=(1.05, 1))"
   ]
  },
  {
   "cell_type": "code",
   "execution_count": 457,
   "id": "358dd4c1",
   "metadata": {},
   "outputs": [
    {
     "data": {
      "text/plain": [
       "<AxesSubplot:xlabel='area', ylabel='price'>"
      ]
     },
     "execution_count": 457,
     "metadata": {},
     "output_type": "execute_result"
    },
    {
     "data": {
      "image/png": "[encoded data removed]",
      "text/plain": [
       "<Figure size 864x360 with 1 Axes>"
      ]
     },
     "metadata": {
      "needs_background": "light"
     },
     "output_type": "display_data"
    }
   ],
   "source": [
    "plt.figure(figsize=(12, 5))\n",
    "sns.regplot(x='area', y='price', data=df, color='darkblue')\n",
    "#plt.legend(bbox_to_anchor=(1.05, 1))"
   ]
  },
  {
   "cell_type": "code",
   "execution_count": 458,
   "id": "89905ac3",
   "metadata": {},
   "outputs": [],
   "source": [
    "area_outlier_index = df[(df['area'] > 6400) & (df['price'] > 400)].index"
   ]
  },
  {
   "cell_type": "code",
   "execution_count": 459,
   "id": "53ce7018",
   "metadata": {},
   "outputs": [
    {
     "data": {
      "text/plain": [
       "Int64Index([1466, 1473, 1475, 2125], dtype='int64')"
      ]
     },
     "execution_count": 459,
     "metadata": {},
     "output_type": "execute_result"
    }
   ],
   "source": [
    "area_outlier_index"
   ]
  },
  {
   "cell_type": "code",
   "execution_count": 460,
   "id": "23dd3400",
   "metadata": {},
   "outputs": [],
   "source": [
    "df.drop(index=area_outlier_index, axis=0, inplace=True)"
   ]
  },
  {
   "cell_type": "code",
   "execution_count": 461,
   "id": "7d2be3c7",
   "metadata": {},
   "outputs": [
    {
     "data": {
      "image/png": "[encoded data removed]",
      "text/plain": [
       "<Figure size 864x360 with 1 Axes>"
      ]
     },
     "metadata": {
      "needs_background": "light"
     },
     "output_type": "display_data"
    }
   ],
   "source": [
    "plt.figure(figsize=(12, 5))\n",
    "sns.regplot(x='area', y='price', data=df, color='darkblue')\n",
    "plt.show()"
   ]
  },
  {
   "cell_type": "code",
   "execution_count": 462,
   "id": "738faa80",
   "metadata": {},
   "outputs": [
    {
     "data": {
      "text/plain": [
       "(2616, 8)"
      ]
     },
     "execution_count": 462,
     "metadata": {},
     "output_type": "execute_result"
    }
   ],
   "source": [
    "df.shape"
   ]
  },
  {
   "cell_type": "code",
   "execution_count": 463,
   "id": "f59ae557",
   "metadata": {},
   "outputs": [
    {
     "data": {
      "text/plain": [
       "price          0\n",
       "area           0\n",
       "status         0\n",
       "bhk            0\n",
       "bathroom    1214\n",
       "age          890\n",
       "location       0\n",
       "builder        0\n",
       "dtype: int64"
      ]
     },
     "execution_count": 463,
     "metadata": {},
     "output_type": "execute_result"
    }
   ],
   "source": [
    "df.isnull().sum()"
   ]
  },
  {
   "cell_type": "code",
   "execution_count": 464,
   "id": "f0520ecd",
   "metadata": {},
   "outputs": [
    {
     "data": {
      "text/html": [
       "<div>\n",
       "<style scoped>\n",
       "    .dataframe tbody tr th:only-of-type {\n",
       "        vertical-align: middle;\n",
       "    }\n",
       "\n",
       "    .dataframe tbody tr th {\n",
       "        vertical-align: top;\n",
       "    }\n",
       "\n",
       "    .dataframe thead th {\n",
       "        text-align: right;\n",
       "    }\n",
       "</style>\n",
       "<table border=\"1\" class=\"dataframe\">\n",
       "  <thead>\n",
       "    <tr style=\"text-align: right;\">\n",
       "      <th></th>\n",
       "      <th>price</th>\n",
       "      <th>area</th>\n",
       "      <th>status</th>\n",
       "      <th>bhk</th>\n",
       "      <th>bathroom</th>\n",
       "      <th>age</th>\n",
       "      <th>location</th>\n",
       "      <th>builder</th>\n",
       "    </tr>\n",
       "  </thead>\n",
       "  <tbody>\n",
       "    <tr>\n",
       "      <th>0</th>\n",
       "      <td>37.49</td>\n",
       "      <td>872</td>\n",
       "      <td>Ready to move</td>\n",
       "      <td>2</td>\n",
       "      <td>NaN</td>\n",
       "      <td>1.0</td>\n",
       "      <td>Sembakkam</td>\n",
       "      <td>MP Developers</td>\n",
       "    </tr>\n",
       "    <tr>\n",
       "      <th>1</th>\n",
       "      <td>93.54</td>\n",
       "      <td>1346</td>\n",
       "      <td>Under Construction</td>\n",
       "      <td>3</td>\n",
       "      <td>2.0</td>\n",
       "      <td>NaN</td>\n",
       "      <td>Selaiyur</td>\n",
       "      <td>DAC Promoters</td>\n",
       "    </tr>\n",
       "    <tr>\n",
       "      <th>2</th>\n",
       "      <td>151.00</td>\n",
       "      <td>2225</td>\n",
       "      <td>Under Construction</td>\n",
       "      <td>3</td>\n",
       "      <td>NaN</td>\n",
       "      <td>0.0</td>\n",
       "      <td>Mogappair</td>\n",
       "      <td>Casagrand Builder Private Limited</td>\n",
       "    </tr>\n",
       "    <tr>\n",
       "      <th>3</th>\n",
       "      <td>49.00</td>\n",
       "      <td>1028</td>\n",
       "      <td>Ready to move</td>\n",
       "      <td>2</td>\n",
       "      <td>2.0</td>\n",
       "      <td>3.0</td>\n",
       "      <td>Ambattur</td>\n",
       "      <td>Dugar Housing Builders</td>\n",
       "    </tr>\n",
       "    <tr>\n",
       "      <th>4</th>\n",
       "      <td>42.28</td>\n",
       "      <td>588</td>\n",
       "      <td>Under Construction</td>\n",
       "      <td>2</td>\n",
       "      <td>1.0</td>\n",
       "      <td>0.0</td>\n",
       "      <td>Pallavaram</td>\n",
       "      <td>Radiance Realty Developers India Ltd</td>\n",
       "    </tr>\n",
       "  </tbody>\n",
       "</table>\n",
       "</div>"
      ],
      "text/plain": [
       "    price  area              status  bhk  bathroom  age    location  \\\n",
       "0   37.49   872       Ready to move    2       NaN  1.0   Sembakkam   \n",
       "1   93.54  1346  Under Construction    3       2.0  NaN    Selaiyur   \n",
       "2  151.00  2225  Under Construction    3       NaN  0.0   Mogappair   \n",
       "3   49.00  1028       Ready to move    2       2.0  3.0    Ambattur   \n",
       "4   42.28   588  Under Construction    2       1.0  0.0  Pallavaram   \n",
       "\n",
       "                                builder  \n",
       "0                         MP Developers  \n",
       "1                         DAC Promoters  \n",
       "2     Casagrand Builder Private Limited  \n",
       "3                Dugar Housing Builders  \n",
       "4  Radiance Realty Developers India Ltd  "
      ]
     },
     "execution_count": 464,
     "metadata": {},
     "output_type": "execute_result"
    }
   ],
   "source": [
    "df.head()"
   ]
  },
  {
   "cell_type": "code",
   "execution_count": 465,
   "id": "2966aa1e",
   "metadata": {},
   "outputs": [
    {
     "data": {
      "image/png": "[encoded data removed]",
      "text/plain": [
       "<Figure size 864x360 with 1 Axes>"
      ]
     },
     "metadata": {
      "needs_background": "light"
     },
     "output_type": "display_data"
    }
   ],
   "source": [
    "# let's check the relation between BHK and price\n",
    "\n",
    "plt.figure(figsize=(12, 5))\n",
    "sns.scatterplot(x='bhk', y='price', data=df, hue='status')\n",
    "plt.legend(bbox_to_anchor=(1.3, 1))\n",
    "plt.show()"
   ]
  },
  {
   "cell_type": "code",
   "execution_count": 466,
   "id": "39f2c33f",
   "metadata": {},
   "outputs": [
    {
     "name": "stderr",
     "output_type": "stream",
     "text": [
      "C:\\ProgramData\\Anaconda3\\lib\\site-packages\\seaborn\\distributions.py:2619: FutureWarning: `distplot` is a deprecated function and will be removed in a future version. Please adapt your code to use either `displot` (a figure-level function with similar flexibility) or `histplot` (an axes-level function for histograms).\n",
      "  warnings.warn(msg, FutureWarning)\n"
     ]
    },
    {
     "data": {
      "image/png": "[encoded data removed]",
      "text/plain": [
       "<Figure size 864x360 with 1 Axes>"
      ]
     },
     "metadata": {
      "needs_background": "light"
     },
     "output_type": "display_data"
    }
   ],
   "source": [
    "plt.figure(figsize=(12, 5))\n",
    "sns.distplot(a=df['bhk'], kde=True, hist=True, color='darkblue')\n",
    "plt.show()"
   ]
  },
  {
   "cell_type": "code",
   "execution_count": 467,
   "id": "b8a76f36",
   "metadata": {},
   "outputs": [
    {
     "data": {
      "image/png": "[encoded data removed]",
      "text/plain": [
       "<Figure size 864x360 with 1 Axes>"
      ]
     },
     "metadata": {
      "needs_background": "light"
     },
     "output_type": "display_data"
    }
   ],
   "source": [
    "plt.figure(figsize=(12, 5))\n",
    "sns.regplot(x='bhk', y='price', data=df, color='darkblue')\n",
    "plt.show()"
   ]
  },
  {
   "cell_type": "code",
   "execution_count": 468,
   "id": "289ed131",
   "metadata": {},
   "outputs": [
    {
     "data": {
      "text/plain": [
       "price       1.000000\n",
       "area        0.814750\n",
       "bhk         0.628955\n",
       "bathroom    0.686412\n",
       "age         0.011789\n",
       "Name: price, dtype: float64"
      ]
     },
     "execution_count": 468,
     "metadata": {},
     "output_type": "execute_result"
    }
   ],
   "source": [
    "df.corr()['price']"
   ]
  },
  {
   "cell_type": "code",
   "execution_count": 469,
   "id": "49f40e6d",
   "metadata": {},
   "outputs": [],
   "source": [
    "# removing outliers\n",
    "\n",
    "df.drop(index=df[(df['bhk'] >= 3) & (df['price'] >= 800)].index, axis=0, inplace=True)\n",
    "df.drop(index=df[(df['bhk'] >= 6) & (df['price'] >= 100)].index, axis=0, inplace=True)\n",
    "df.drop(index=df[(df['bhk'] == 3) & (df['price'] >= 550)].index, axis=0, inplace=True)\n",
    "df.drop(index=df[(df['bhk'] == 4) & (df['price'] >= 600)].index, axis=0, inplace=True)"
   ]
  },
  {
   "cell_type": "code",
   "execution_count": 470,
   "id": "1f0a277e",
   "metadata": {},
   "outputs": [
    {
     "data": {
      "image/png": "[encoded data removed]",
      "text/plain": [
       "<Figure size 864x360 with 1 Axes>"
      ]
     },
     "metadata": {
      "needs_background": "light"
     },
     "output_type": "display_data"
    }
   ],
   "source": [
    "plt.figure(figsize=(12, 5))\n",
    "sns.regplot(x='bhk', y='price', data=df, color='darkblue')\n",
    "plt.show()"
   ]
  },
  {
   "cell_type": "code",
   "execution_count": 471,
   "id": "7a27b36c",
   "metadata": {},
   "outputs": [
    {
     "data": {
      "text/plain": [
       "(2590, 8)"
      ]
     },
     "execution_count": 471,
     "metadata": {},
     "output_type": "execute_result"
    }
   ],
   "source": [
    "df.shape"
   ]
  },
  {
   "cell_type": "code",
   "execution_count": 472,
   "id": "abb01d56",
   "metadata": {},
   "outputs": [
    {
     "data": {
      "text/plain": [
       "price          0\n",
       "area           0\n",
       "status         0\n",
       "bhk            0\n",
       "bathroom    1197\n",
       "age          880\n",
       "location       0\n",
       "builder        0\n",
       "dtype: int64"
      ]
     },
     "execution_count": 472,
     "metadata": {},
     "output_type": "execute_result"
    }
   ],
   "source": [
    "df.isnull().sum()"
   ]
  },
  {
   "cell_type": "code",
   "execution_count": 473,
   "id": "14044785",
   "metadata": {},
   "outputs": [
    {
     "data": {
      "text/plain": [
       "<AxesSubplot:xlabel='bathroom', ylabel='price'>"
      ]
     },
     "execution_count": 473,
     "metadata": {},
     "output_type": "execute_result"
    },
    {
     "data": {
      "image/png": "[encoded data removed]",
      "text/plain": [
       "<Figure size 864x360 with 1 Axes>"
      ]
     },
     "metadata": {
      "needs_background": "light"
     },
     "output_type": "display_data"
    }
   ],
   "source": [
    "plt.figure(figsize=(12, 5))\n",
    "sns.scatterplot(x='bathroom', y='price', data=df)"
   ]
  },
  {
   "cell_type": "code",
   "execution_count": 474,
   "id": "b70d8e1c",
   "metadata": {},
   "outputs": [],
   "source": [
    "# BHK and bathroom features are having the same affect on price. \n",
    "# typically correlation at 0.62 and 0.68, so we are going to drop feature bathroom.\n",
    "\n",
    "df.drop('bathroom', axis=1, inplace=True)"
   ]
  },
  {
   "cell_type": "code",
   "execution_count": 475,
   "id": "748386bb",
   "metadata": {},
   "outputs": [
    {
     "data": {
      "text/html": [
       "<div>\n",
       "<style scoped>\n",
       "    .dataframe tbody tr th:only-of-type {\n",
       "        vertical-align: middle;\n",
       "    }\n",
       "\n",
       "    .dataframe tbody tr th {\n",
       "        vertical-align: top;\n",
       "    }\n",
       "\n",
       "    .dataframe thead th {\n",
       "        text-align: right;\n",
       "    }\n",
       "</style>\n",
       "<table border=\"1\" class=\"dataframe\">\n",
       "  <thead>\n",
       "    <tr style=\"text-align: right;\">\n",
       "      <th></th>\n",
       "      <th>price</th>\n",
       "      <th>area</th>\n",
       "      <th>status</th>\n",
       "      <th>bhk</th>\n",
       "      <th>age</th>\n",
       "      <th>location</th>\n",
       "      <th>builder</th>\n",
       "    </tr>\n",
       "  </thead>\n",
       "  <tbody>\n",
       "    <tr>\n",
       "      <th>0</th>\n",
       "      <td>37.49</td>\n",
       "      <td>872</td>\n",
       "      <td>Ready to move</td>\n",
       "      <td>2</td>\n",
       "      <td>1.0</td>\n",
       "      <td>Sembakkam</td>\n",
       "      <td>MP Developers</td>\n",
       "    </tr>\n",
       "    <tr>\n",
       "      <th>1</th>\n",
       "      <td>93.54</td>\n",
       "      <td>1346</td>\n",
       "      <td>Under Construction</td>\n",
       "      <td>3</td>\n",
       "      <td>NaN</td>\n",
       "      <td>Selaiyur</td>\n",
       "      <td>DAC Promoters</td>\n",
       "    </tr>\n",
       "    <tr>\n",
       "      <th>2</th>\n",
       "      <td>151.00</td>\n",
       "      <td>2225</td>\n",
       "      <td>Under Construction</td>\n",
       "      <td>3</td>\n",
       "      <td>0.0</td>\n",
       "      <td>Mogappair</td>\n",
       "      <td>Casagrand Builder Private Limited</td>\n",
       "    </tr>\n",
       "    <tr>\n",
       "      <th>3</th>\n",
       "      <td>49.00</td>\n",
       "      <td>1028</td>\n",
       "      <td>Ready to move</td>\n",
       "      <td>2</td>\n",
       "      <td>3.0</td>\n",
       "      <td>Ambattur</td>\n",
       "      <td>Dugar Housing Builders</td>\n",
       "    </tr>\n",
       "    <tr>\n",
       "      <th>4</th>\n",
       "      <td>42.28</td>\n",
       "      <td>588</td>\n",
       "      <td>Under Construction</td>\n",
       "      <td>2</td>\n",
       "      <td>0.0</td>\n",
       "      <td>Pallavaram</td>\n",
       "      <td>Radiance Realty Developers India Ltd</td>\n",
       "    </tr>\n",
       "  </tbody>\n",
       "</table>\n",
       "</div>"
      ],
      "text/plain": [
       "    price  area              status  bhk  age    location  \\\n",
       "0   37.49   872       Ready to move    2  1.0   Sembakkam   \n",
       "1   93.54  1346  Under Construction    3  NaN    Selaiyur   \n",
       "2  151.00  2225  Under Construction    3  0.0   Mogappair   \n",
       "3   49.00  1028       Ready to move    2  3.0    Ambattur   \n",
       "4   42.28   588  Under Construction    2  0.0  Pallavaram   \n",
       "\n",
       "                                builder  \n",
       "0                         MP Developers  \n",
       "1                         DAC Promoters  \n",
       "2     Casagrand Builder Private Limited  \n",
       "3                Dugar Housing Builders  \n",
       "4  Radiance Realty Developers India Ltd  "
      ]
     },
     "execution_count": 475,
     "metadata": {},
     "output_type": "execute_result"
    }
   ],
   "source": [
    "df.head()"
   ]
  },
  {
   "cell_type": "code",
   "execution_count": 476,
   "id": "edb4acb6",
   "metadata": {},
   "outputs": [
    {
     "data": {
      "text/plain": [
       "price         0\n",
       "area          0\n",
       "status        0\n",
       "bhk           0\n",
       "age         880\n",
       "location      0\n",
       "builder       0\n",
       "dtype: int64"
      ]
     },
     "execution_count": 476,
     "metadata": {},
     "output_type": "execute_result"
    }
   ],
   "source": [
    "df.isnull().sum()"
   ]
  },
  {
   "cell_type": "code",
   "execution_count": 477,
   "id": "64844951",
   "metadata": {},
   "outputs": [
    {
     "data": {
      "text/plain": [
       "<AxesSubplot:xlabel='age', ylabel='price'>"
      ]
     },
     "execution_count": 477,
     "metadata": {},
     "output_type": "execute_result"
    },
    {
     "data": {
      "image/png": "[encoded data removed]",
      "text/plain": [
       "<Figure size 864x360 with 1 Axes>"
      ]
     },
     "metadata": {
      "needs_background": "light"
     },
     "output_type": "display_data"
    }
   ],
   "source": [
    "plt.figure(figsize=(12, 5))\n",
    "sns.scatterplot(x='age', y='price', data=df)"
   ]
  },
  {
   "cell_type": "code",
   "execution_count": 478,
   "id": "d9e459cf",
   "metadata": {},
   "outputs": [],
   "source": [
    "# the feature age has low corelation with price, ie 0.011\n",
    "# so we are going to drop that as well. \n",
    "\n",
    "df.drop('age', axis=1, inplace=True)"
   ]
  },
  {
   "cell_type": "code",
   "execution_count": 479,
   "id": "c44aea93",
   "metadata": {},
   "outputs": [
    {
     "data": {
      "text/html": [
       "<div>\n",
       "<style scoped>\n",
       "    .dataframe tbody tr th:only-of-type {\n",
       "        vertical-align: middle;\n",
       "    }\n",
       "\n",
       "    .dataframe tbody tr th {\n",
       "        vertical-align: top;\n",
       "    }\n",
       "\n",
       "    .dataframe thead th {\n",
       "        text-align: right;\n",
       "    }\n",
       "</style>\n",
       "<table border=\"1\" class=\"dataframe\">\n",
       "  <thead>\n",
       "    <tr style=\"text-align: right;\">\n",
       "      <th></th>\n",
       "      <th>price</th>\n",
       "      <th>area</th>\n",
       "      <th>status</th>\n",
       "      <th>bhk</th>\n",
       "      <th>location</th>\n",
       "      <th>builder</th>\n",
       "    </tr>\n",
       "  </thead>\n",
       "  <tbody>\n",
       "    <tr>\n",
       "      <th>0</th>\n",
       "      <td>37.49</td>\n",
       "      <td>872</td>\n",
       "      <td>Ready to move</td>\n",
       "      <td>2</td>\n",
       "      <td>Sembakkam</td>\n",
       "      <td>MP Developers</td>\n",
       "    </tr>\n",
       "    <tr>\n",
       "      <th>1</th>\n",
       "      <td>93.54</td>\n",
       "      <td>1346</td>\n",
       "      <td>Under Construction</td>\n",
       "      <td>3</td>\n",
       "      <td>Selaiyur</td>\n",
       "      <td>DAC Promoters</td>\n",
       "    </tr>\n",
       "    <tr>\n",
       "      <th>2</th>\n",
       "      <td>151.00</td>\n",
       "      <td>2225</td>\n",
       "      <td>Under Construction</td>\n",
       "      <td>3</td>\n",
       "      <td>Mogappair</td>\n",
       "      <td>Casagrand Builder Private Limited</td>\n",
       "    </tr>\n",
       "    <tr>\n",
       "      <th>3</th>\n",
       "      <td>49.00</td>\n",
       "      <td>1028</td>\n",
       "      <td>Ready to move</td>\n",
       "      <td>2</td>\n",
       "      <td>Ambattur</td>\n",
       "      <td>Dugar Housing Builders</td>\n",
       "    </tr>\n",
       "    <tr>\n",
       "      <th>4</th>\n",
       "      <td>42.28</td>\n",
       "      <td>588</td>\n",
       "      <td>Under Construction</td>\n",
       "      <td>2</td>\n",
       "      <td>Pallavaram</td>\n",
       "      <td>Radiance Realty Developers India Ltd</td>\n",
       "    </tr>\n",
       "  </tbody>\n",
       "</table>\n",
       "</div>"
      ],
      "text/plain": [
       "    price  area              status  bhk    location  \\\n",
       "0   37.49   872       Ready to move    2   Sembakkam   \n",
       "1   93.54  1346  Under Construction    3    Selaiyur   \n",
       "2  151.00  2225  Under Construction    3   Mogappair   \n",
       "3   49.00  1028       Ready to move    2    Ambattur   \n",
       "4   42.28   588  Under Construction    2  Pallavaram   \n",
       "\n",
       "                                builder  \n",
       "0                         MP Developers  \n",
       "1                         DAC Promoters  \n",
       "2     Casagrand Builder Private Limited  \n",
       "3                Dugar Housing Builders  \n",
       "4  Radiance Realty Developers India Ltd  "
      ]
     },
     "execution_count": 479,
     "metadata": {},
     "output_type": "execute_result"
    }
   ],
   "source": [
    "df.head()"
   ]
  },
  {
   "cell_type": "code",
   "execution_count": 480,
   "id": "0d1caf44",
   "metadata": {},
   "outputs": [
    {
     "data": {
      "text/plain": [
       "price       0\n",
       "area        0\n",
       "status      0\n",
       "bhk         0\n",
       "location    0\n",
       "builder     0\n",
       "dtype: int64"
      ]
     },
     "execution_count": 480,
     "metadata": {},
     "output_type": "execute_result"
    }
   ],
   "source": [
    "df.isnull().sum()"
   ]
  },
  {
   "cell_type": "code",
   "execution_count": 481,
   "id": "ba5565d9",
   "metadata": {},
   "outputs": [
    {
     "data": {
      "text/plain": [
       "0            Ready to move\n",
       "1       Under Construction\n",
       "2       Under Construction\n",
       "3            Ready to move\n",
       "4       Under Construction\n",
       "               ...        \n",
       "2615         Ready to move\n",
       "2616         Ready to move\n",
       "2617         Ready to move\n",
       "2618         Ready to move\n",
       "2619         Ready to move\n",
       "Name: status, Length: 2590, dtype: object"
      ]
     },
     "execution_count": 481,
     "metadata": {},
     "output_type": "execute_result"
    }
   ],
   "source": [
    "df['status']"
   ]
  },
  {
   "cell_type": "code",
   "execution_count": 482,
   "id": "2fd994cc",
   "metadata": {},
   "outputs": [
    {
     "data": {
      "text/plain": [
       "array(['Ready to move', 'Under Construction'], dtype=object)"
      ]
     },
     "execution_count": 482,
     "metadata": {},
     "output_type": "execute_result"
    }
   ],
   "source": [
    "df['status'].unique()"
   ]
  },
  {
   "cell_type": "code",
   "execution_count": 483,
   "id": "7289f347",
   "metadata": {},
   "outputs": [
    {
     "data": {
      "text/plain": [
       "<AxesSubplot:xlabel='status', ylabel='count'>"
      ]
     },
     "execution_count": 483,
     "metadata": {},
     "output_type": "execute_result"
    },
    {
     "data": {
      "image/png": "[encoded data removed]",
      "text/plain": [
       "<Figure size 864x360 with 1 Axes>"
      ]
     },
     "metadata": {
      "needs_background": "light"
     },
     "output_type": "display_data"
    }
   ],
   "source": [
    "plt.figure(figsize=(12, 5))\n",
    "sns.countplot(x='status', data=df)"
   ]
  },
  {
   "cell_type": "code",
   "execution_count": 484,
   "id": "183aed4b",
   "metadata": {},
   "outputs": [
    {
     "data": {
      "text/plain": [
       "<AxesSubplot:xlabel='status', ylabel='price'>"
      ]
     },
     "execution_count": 484,
     "metadata": {},
     "output_type": "execute_result"
    },
    {
     "data": {
      "image/png": "[encoded data removed]",
      "text/plain": [
       "<Figure size 864x360 with 1 Axes>"
      ]
     },
     "metadata": {
      "needs_background": "light"
     },
     "output_type": "display_data"
    }
   ],
   "source": [
    "plt.figure(figsize=(12, 5))\n",
    "sns.boxplot(x='status', y='price', data=df, palette='Dark2', saturation=1, linewidth=0.8)"
   ]
  },
  {
   "cell_type": "code",
   "execution_count": 485,
   "id": "88473ea2",
   "metadata": {},
   "outputs": [
    {
     "data": {
      "text/plain": [
       "<AxesSubplot:xlabel='status', ylabel='price'>"
      ]
     },
     "execution_count": 485,
     "metadata": {},
     "output_type": "execute_result"
    },
    {
     "data": {
      "image/png": "[encoded data removed]",
      "text/plain": [
       "<Figure size 864x360 with 1 Axes>"
      ]
     },
     "metadata": {
      "needs_background": "light"
     },
     "output_type": "display_data"
    }
   ],
   "source": [
    "plt.figure(figsize=(12, 5))\n",
    "sns.barplot(x='status', y='price', data=df, palette='Dark2', ci='sd')"
   ]
  },
  {
   "cell_type": "code",
   "execution_count": 486,
   "id": "2b492ea0",
   "metadata": {},
   "outputs": [],
   "source": [
    "dummy_status = pd.get_dummies(df['status'])"
   ]
  },
  {
   "cell_type": "code",
   "execution_count": 487,
   "id": "cb2ebfec",
   "metadata": {},
   "outputs": [],
   "source": [
    "df = pd.concat([df, dummy_status], axis=1)"
   ]
  },
  {
   "cell_type": "code",
   "execution_count": 488,
   "id": "1a6fd45f",
   "metadata": {},
   "outputs": [
    {
     "data": {
      "text/html": [
       "<div>\n",
       "<style scoped>\n",
       "    .dataframe tbody tr th:only-of-type {\n",
       "        vertical-align: middle;\n",
       "    }\n",
       "\n",
       "    .dataframe tbody tr th {\n",
       "        vertical-align: top;\n",
       "    }\n",
       "\n",
       "    .dataframe thead th {\n",
       "        text-align: right;\n",
       "    }\n",
       "</style>\n",
       "<table border=\"1\" class=\"dataframe\">\n",
       "  <thead>\n",
       "    <tr style=\"text-align: right;\">\n",
       "      <th></th>\n",
       "      <th>price</th>\n",
       "      <th>area</th>\n",
       "      <th>status</th>\n",
       "      <th>bhk</th>\n",
       "      <th>location</th>\n",
       "      <th>builder</th>\n",
       "      <th>Ready to move</th>\n",
       "      <th>Under Construction</th>\n",
       "    </tr>\n",
       "  </thead>\n",
       "  <tbody>\n",
       "    <tr>\n",
       "      <th>0</th>\n",
       "      <td>37.49</td>\n",
       "      <td>872</td>\n",
       "      <td>Ready to move</td>\n",
       "      <td>2</td>\n",
       "      <td>Sembakkam</td>\n",
       "      <td>MP Developers</td>\n",
       "      <td>1</td>\n",
       "      <td>0</td>\n",
       "    </tr>\n",
       "    <tr>\n",
       "      <th>1</th>\n",
       "      <td>93.54</td>\n",
       "      <td>1346</td>\n",
       "      <td>Under Construction</td>\n",
       "      <td>3</td>\n",
       "      <td>Selaiyur</td>\n",
       "      <td>DAC Promoters</td>\n",
       "      <td>0</td>\n",
       "      <td>1</td>\n",
       "    </tr>\n",
       "    <tr>\n",
       "      <th>2</th>\n",
       "      <td>151.00</td>\n",
       "      <td>2225</td>\n",
       "      <td>Under Construction</td>\n",
       "      <td>3</td>\n",
       "      <td>Mogappair</td>\n",
       "      <td>Casagrand Builder Private Limited</td>\n",
       "      <td>0</td>\n",
       "      <td>1</td>\n",
       "    </tr>\n",
       "    <tr>\n",
       "      <th>3</th>\n",
       "      <td>49.00</td>\n",
       "      <td>1028</td>\n",
       "      <td>Ready to move</td>\n",
       "      <td>2</td>\n",
       "      <td>Ambattur</td>\n",
       "      <td>Dugar Housing Builders</td>\n",
       "      <td>1</td>\n",
       "      <td>0</td>\n",
       "    </tr>\n",
       "    <tr>\n",
       "      <th>4</th>\n",
       "      <td>42.28</td>\n",
       "      <td>588</td>\n",
       "      <td>Under Construction</td>\n",
       "      <td>2</td>\n",
       "      <td>Pallavaram</td>\n",
       "      <td>Radiance Realty Developers India Ltd</td>\n",
       "      <td>0</td>\n",
       "      <td>1</td>\n",
       "    </tr>\n",
       "  </tbody>\n",
       "</table>\n",
       "</div>"
      ],
      "text/plain": [
       "    price  area              status  bhk    location  \\\n",
       "0   37.49   872       Ready to move    2   Sembakkam   \n",
       "1   93.54  1346  Under Construction    3    Selaiyur   \n",
       "2  151.00  2225  Under Construction    3   Mogappair   \n",
       "3   49.00  1028       Ready to move    2    Ambattur   \n",
       "4   42.28   588  Under Construction    2  Pallavaram   \n",
       "\n",
       "                                builder  Ready to move  Under Construction  \n",
       "0                         MP Developers              1                   0  \n",
       "1                         DAC Promoters              0                   1  \n",
       "2     Casagrand Builder Private Limited              0                   1  \n",
       "3                Dugar Housing Builders              1                   0  \n",
       "4  Radiance Realty Developers India Ltd              0                   1  "
      ]
     },
     "execution_count": 488,
     "metadata": {},
     "output_type": "execute_result"
    }
   ],
   "source": [
    "df.head()"
   ]
  },
  {
   "cell_type": "code",
   "execution_count": 489,
   "id": "2f59aeb9",
   "metadata": {},
   "outputs": [
    {
     "data": {
      "text/plain": [
       "array(['Sembakkam', 'Selaiyur', 'Mogappair', 'Ambattur', 'Pallavaram',\n",
       "       'Virugambakkam', 'Thirumazhisai', 'Moolakadai', 'Ottiyambakkam',\n",
       "       'Perungalathur', 'Gerugambakkam', 'Anna Nagar', 'Gopalapuram',\n",
       "       'Pammal', 'Porur', 'Navallur', 'Sholinganallur', 'Vanagaram',\n",
       "       'T Nagar', 'Guindy', 'Madipakkam', 'Perumbakkam', 'Velachery',\n",
       "       'Medavakkam', 'Gowrivakkam', 'Chromepet', 'Thalambur', 'Thandalam',\n",
       "       'Ayanambakkam', 'Kanathur Reddikuppam', 'Adyar', 'Kolapakkam',\n",
       "       'Thaiyur', 'Thoraipakkam OMR', 'Poonamallee', 'Padur',\n",
       "       'East Tambaram', 'Tiruvottiyur', 'Iyappanthangal', 'Padappai',\n",
       "       'Mugalivakkam', 'Kelambakkam', 'Thirumullaivoyal', 'Madhavaram',\n",
       "       'Kundrathur', 'Vengaivasal', 'Siruseri', 'Manapakkam',\n",
       "       'Karapakkam', 'Sithalapakkam', 'Madambakkam', 'Perungudi',\n",
       "       'Vadapalani', 'Alwarpet', 'Thiruvidandhai', 'Kotturpuram',\n",
       "       'Velappanchavadi', 'Kilpauk', 'Besant Nagar', 'Vellakkal', 'Avadi',\n",
       "       'Kolathur', 'Thiruvanmiyur', 'Periyar Nagar', 'Nanmangalam',\n",
       "       'Anakaputhur', 'Urapakkam', 'Kovur', 'Nungambakkam', 'Maduravoyal',\n",
       "       'Guduvancheri', 'Koyambedu', 'Korattur', 'Iyyappanthangal',\n",
       "       'Madhavaram Milk Colony', 'Jeth Nagar', 'Mangadu',\n",
       "       'Singaperumal Koil', 'Madhanandapuram', 'Kandigai', 'Veppampattu',\n",
       "       'Saidapet', 'Oragadam Village Ambattur Talu', 'Pattabiram',\n",
       "       'Mahabalipuram', 'Ayapakkam', 'Chitlapakkam', 'Puzhal',\n",
       "       'Washermanpet', 'Thiruverkadu', 'Pozhichalur', 'Mannur',\n",
       "       'West Mambalam', 'Kattupakkam', 'Maraimalai Nagar', 'Chetpet',\n",
       "       'Ramapuram', 'Alandur', 'Red Hills', 'K K Nagar', 'Purasawalkam',\n",
       "       'Ramavaram', 'Saligramam', 'Royapettah', 'Valasaravakkam',\n",
       "       'Semmancheri', 'Ottiyabakkam', 'Nanganallur', 'Pallikaranai',\n",
       "       'Muttukadu', 'Tharapakkam', 'Egmore', 'Anna Nagar East',\n",
       "       'Ayanavaram', 'Aminjikarai', 'Purasaiwakkam', 'Periyapanicheri',\n",
       "       'Kattankulathur', 'Kotivakkam', 'Kumananchavadi', 'Perumalpattu',\n",
       "       'Kodambakkam', 'Sevvapet', 'tambaram west', 'Kovilambakkam',\n",
       "       'Raja Annamalai Puram', 'Rajakilpakkam', 'Villivakkam',\n",
       "       'Chengalpattu', 'Cholambedu', 'Nesapakkam', 'Padapai',\n",
       "       'Neelankarai', 'Vadanemmeli', 'Kumaran Nagar', 'Ashok Nagar',\n",
       "       'Adambakam', 'Perambur', 'Keelkattalai', 'Kodungaiyur West',\n",
       "       'Pudupakkam', 'Shenoy Nagar', 'Padi', 'Mogappair East',\n",
       "       'Elandanur', 'Pazavanthangal', 'Thiruporur', 'Moolacheri',\n",
       "       'Kolapakkam Vandalur', 'Veppampatttu', 'Manali', 'Jamalia',\n",
       "       'Kottivakkam', 'Gokulapuram', 'Iyyapa Nagar', 'West Tambaram',\n",
       "       'Old Pallavaram', 'Sriperumbudur', 'Ponniammanmedu', 'Kovalam',\n",
       "       'CIT Nagar', 'Agaramthen', 'Vengambakkam', 'Mambakkam',\n",
       "       'Nallambakkam', 'Peerakankaranai', 'Rathinamangalam',\n",
       "       'Nandambakkam', 'Jafferkhanpet', 'Arumbakkam', 'Kuthambakkam',\n",
       "       'Thirumalpur', 'Mahindra World City',\n",
       "       'Oragadam Industrial Corridor', 'Ragavendra Colony',\n",
       "       'Ambattur INDUSTRIAL ESTATE', 'Mannivakkam', 'Kil Ayanambakkam'],\n",
       "      dtype=object)"
      ]
     },
     "execution_count": 489,
     "metadata": {},
     "output_type": "execute_result"
    }
   ],
   "source": [
    "df['location'].unique()"
   ]
  },
  {
   "cell_type": "code",
   "execution_count": 490,
   "id": "01a664ae",
   "metadata": {},
   "outputs": [
    {
     "data": {
      "text/plain": [
       "Veppampattu         149\n",
       "Pammal              139\n",
       "Medavakkam          111\n",
       "Sholinganallur       97\n",
       "Perungudi            88\n",
       "                   ... \n",
       "Manali                1\n",
       "Sevvapet              1\n",
       "Gokulapuram           1\n",
       "Iyyapa Nagar          1\n",
       "Kil Ayanambakkam      1\n",
       "Name: location, Length: 178, dtype: int64"
      ]
     },
     "execution_count": 490,
     "metadata": {},
     "output_type": "execute_result"
    }
   ],
   "source": [
    "df['location'].value_counts()"
   ]
  },
  {
   "cell_type": "code",
   "execution_count": 491,
   "id": "ff7a8009",
   "metadata": {},
   "outputs": [
    {
     "data": {
      "text/plain": [
       "(array([  0,   1,   2,   3,   4,   5,   6,   7,   8,   9,  10,  11,  12,\n",
       "         13,  14,  15,  16,  17,  18,  19,  20,  21,  22,  23,  24,  25,\n",
       "         26,  27,  28,  29,  30,  31,  32,  33,  34,  35,  36,  37,  38,\n",
       "         39,  40,  41,  42,  43,  44,  45,  46,  47,  48,  49,  50,  51,\n",
       "         52,  53,  54,  55,  56,  57,  58,  59,  60,  61,  62,  63,  64,\n",
       "         65,  66,  67,  68,  69,  70,  71,  72,  73,  74,  75,  76,  77,\n",
       "         78,  79,  80,  81,  82,  83,  84,  85,  86,  87,  88,  89,  90,\n",
       "         91,  92,  93,  94,  95,  96,  97,  98,  99, 100, 101, 102, 103,\n",
       "        104, 105, 106, 107, 108, 109, 110, 111, 112, 113, 114, 115, 116,\n",
       "        117, 118, 119, 120, 121, 122, 123, 124, 125, 126, 127, 128, 129,\n",
       "        130, 131, 132, 133, 134, 135, 136, 137, 138, 139, 140, 141, 142,\n",
       "        143, 144, 145, 146, 147, 148, 149, 150, 151, 152, 153, 154, 155,\n",
       "        156, 157, 158, 159, 160, 161, 162, 163, 164, 165, 166, 167, 168,\n",
       "        169, 170, 171, 172, 173, 174, 175, 176, 177]),\n",
       " [Text(0, 0, 'Sembakkam'),\n",
       "  Text(1, 0, 'Selaiyur'),\n",
       "  Text(2, 0, 'Mogappair'),\n",
       "  Text(3, 0, 'Ambattur'),\n",
       "  Text(4, 0, 'Pallavaram'),\n",
       "  Text(5, 0, 'Virugambakkam'),\n",
       "  Text(6, 0, 'Thirumazhisai'),\n",
       "  Text(7, 0, 'Moolakadai'),\n",
       "  Text(8, 0, 'Ottiyambakkam'),\n",
       "  Text(9, 0, 'Perungalathur'),\n",
       "  Text(10, 0, 'Gerugambakkam'),\n",
       "  Text(11, 0, 'Anna Nagar'),\n",
       "  Text(12, 0, 'Gopalapuram'),\n",
       "  Text(13, 0, 'Pammal'),\n",
       "  Text(14, 0, 'Porur'),\n",
       "  Text(15, 0, 'Navallur'),\n",
       "  Text(16, 0, 'Sholinganallur'),\n",
       "  Text(17, 0, 'Vanagaram'),\n",
       "  Text(18, 0, 'T Nagar'),\n",
       "  Text(19, 0, 'Guindy'),\n",
       "  Text(20, 0, 'Madipakkam'),\n",
       "  Text(21, 0, 'Perumbakkam'),\n",
       "  Text(22, 0, 'Velachery'),\n",
       "  Text(23, 0, 'Medavakkam'),\n",
       "  Text(24, 0, 'Gowrivakkam'),\n",
       "  Text(25, 0, 'Chromepet'),\n",
       "  Text(26, 0, 'Thalambur'),\n",
       "  Text(27, 0, 'Thandalam'),\n",
       "  Text(28, 0, 'Ayanambakkam'),\n",
       "  Text(29, 0, 'Kanathur Reddikuppam'),\n",
       "  Text(30, 0, 'Adyar'),\n",
       "  Text(31, 0, 'Kolapakkam'),\n",
       "  Text(32, 0, 'Thaiyur'),\n",
       "  Text(33, 0, 'Thoraipakkam OMR'),\n",
       "  Text(34, 0, 'Poonamallee'),\n",
       "  Text(35, 0, 'Padur'),\n",
       "  Text(36, 0, 'East Tambaram'),\n",
       "  Text(37, 0, 'Tiruvottiyur'),\n",
       "  Text(38, 0, 'Iyappanthangal'),\n",
       "  Text(39, 0, 'Padappai'),\n",
       "  Text(40, 0, 'Mugalivakkam'),\n",
       "  Text(41, 0, 'Kelambakkam'),\n",
       "  Text(42, 0, 'Thirumullaivoyal'),\n",
       "  Text(43, 0, 'Madhavaram'),\n",
       "  Text(44, 0, 'Kundrathur'),\n",
       "  Text(45, 0, 'Vengaivasal'),\n",
       "  Text(46, 0, 'Siruseri'),\n",
       "  Text(47, 0, 'Manapakkam'),\n",
       "  Text(48, 0, 'Karapakkam'),\n",
       "  Text(49, 0, 'Sithalapakkam'),\n",
       "  Text(50, 0, 'Madambakkam'),\n",
       "  Text(51, 0, 'Perungudi'),\n",
       "  Text(52, 0, 'Vadapalani'),\n",
       "  Text(53, 0, 'Alwarpet'),\n",
       "  Text(54, 0, 'Thiruvidandhai'),\n",
       "  Text(55, 0, 'Kotturpuram'),\n",
       "  Text(56, 0, 'Velappanchavadi'),\n",
       "  Text(57, 0, 'Kilpauk'),\n",
       "  Text(58, 0, 'Besant Nagar'),\n",
       "  Text(59, 0, 'Vellakkal'),\n",
       "  Text(60, 0, 'Avadi'),\n",
       "  Text(61, 0, 'Kolathur'),\n",
       "  Text(62, 0, 'Thiruvanmiyur'),\n",
       "  Text(63, 0, 'Periyar Nagar'),\n",
       "  Text(64, 0, 'Nanmangalam'),\n",
       "  Text(65, 0, 'Anakaputhur'),\n",
       "  Text(66, 0, 'Urapakkam'),\n",
       "  Text(67, 0, 'Kovur'),\n",
       "  Text(68, 0, 'Nungambakkam'),\n",
       "  Text(69, 0, 'Maduravoyal'),\n",
       "  Text(70, 0, 'Guduvancheri'),\n",
       "  Text(71, 0, 'Koyambedu'),\n",
       "  Text(72, 0, 'Korattur'),\n",
       "  Text(73, 0, 'Iyyappanthangal'),\n",
       "  Text(74, 0, 'Madhavaram Milk Colony'),\n",
       "  Text(75, 0, 'Jeth Nagar'),\n",
       "  Text(76, 0, 'Mangadu'),\n",
       "  Text(77, 0, 'Singaperumal Koil'),\n",
       "  Text(78, 0, 'Madhanandapuram'),\n",
       "  Text(79, 0, 'Kandigai'),\n",
       "  Text(80, 0, 'Veppampattu'),\n",
       "  Text(81, 0, 'Saidapet'),\n",
       "  Text(82, 0, 'Oragadam Village Ambattur Talu'),\n",
       "  Text(83, 0, 'Pattabiram'),\n",
       "  Text(84, 0, 'Mahabalipuram'),\n",
       "  Text(85, 0, 'Ayapakkam'),\n",
       "  Text(86, 0, 'Chitlapakkam'),\n",
       "  Text(87, 0, 'Puzhal'),\n",
       "  Text(88, 0, 'Washermanpet'),\n",
       "  Text(89, 0, 'Thiruverkadu'),\n",
       "  Text(90, 0, 'Pozhichalur'),\n",
       "  Text(91, 0, 'Mannur'),\n",
       "  Text(92, 0, 'West Mambalam'),\n",
       "  Text(93, 0, 'Kattupakkam'),\n",
       "  Text(94, 0, 'Maraimalai Nagar'),\n",
       "  Text(95, 0, 'Chetpet'),\n",
       "  Text(96, 0, 'Ramapuram'),\n",
       "  Text(97, 0, 'Alandur'),\n",
       "  Text(98, 0, 'Red Hills'),\n",
       "  Text(99, 0, 'K K Nagar'),\n",
       "  Text(100, 0, 'Purasawalkam'),\n",
       "  Text(101, 0, 'Ramavaram'),\n",
       "  Text(102, 0, 'Saligramam'),\n",
       "  Text(103, 0, 'Royapettah'),\n",
       "  Text(104, 0, 'Valasaravakkam'),\n",
       "  Text(105, 0, 'Semmancheri'),\n",
       "  Text(106, 0, 'Ottiyabakkam'),\n",
       "  Text(107, 0, 'Nanganallur'),\n",
       "  Text(108, 0, 'Pallikaranai'),\n",
       "  Text(109, 0, 'Muttukadu'),\n",
       "  Text(110, 0, 'Tharapakkam'),\n",
       "  Text(111, 0, 'Egmore'),\n",
       "  Text(112, 0, 'Anna Nagar East'),\n",
       "  Text(113, 0, 'Ayanavaram'),\n",
       "  Text(114, 0, 'Aminjikarai'),\n",
       "  Text(115, 0, 'Purasaiwakkam'),\n",
       "  Text(116, 0, 'Periyapanicheri'),\n",
       "  Text(117, 0, 'Kattankulathur'),\n",
       "  Text(118, 0, 'Kotivakkam'),\n",
       "  Text(119, 0, 'Kumananchavadi'),\n",
       "  Text(120, 0, 'Perumalpattu'),\n",
       "  Text(121, 0, 'Kodambakkam'),\n",
       "  Text(122, 0, 'Sevvapet'),\n",
       "  Text(123, 0, 'tambaram west'),\n",
       "  Text(124, 0, 'Kovilambakkam'),\n",
       "  Text(125, 0, 'Raja Annamalai Puram'),\n",
       "  Text(126, 0, 'Rajakilpakkam'),\n",
       "  Text(127, 0, 'Villivakkam'),\n",
       "  Text(128, 0, 'Chengalpattu'),\n",
       "  Text(129, 0, 'Cholambedu'),\n",
       "  Text(130, 0, 'Nesapakkam'),\n",
       "  Text(131, 0, 'Padapai'),\n",
       "  Text(132, 0, 'Neelankarai'),\n",
       "  Text(133, 0, 'Vadanemmeli'),\n",
       "  Text(134, 0, 'Kumaran Nagar'),\n",
       "  Text(135, 0, 'Ashok Nagar'),\n",
       "  Text(136, 0, 'Adambakam'),\n",
       "  Text(137, 0, 'Perambur'),\n",
       "  Text(138, 0, 'Keelkattalai'),\n",
       "  Text(139, 0, 'Kodungaiyur West'),\n",
       "  Text(140, 0, 'Pudupakkam'),\n",
       "  Text(141, 0, 'Shenoy Nagar'),\n",
       "  Text(142, 0, 'Padi'),\n",
       "  Text(143, 0, 'Mogappair East'),\n",
       "  Text(144, 0, 'Elandanur'),\n",
       "  Text(145, 0, 'Pazavanthangal'),\n",
       "  Text(146, 0, 'Thiruporur'),\n",
       "  Text(147, 0, 'Moolacheri'),\n",
       "  Text(148, 0, 'Kolapakkam Vandalur'),\n",
       "  Text(149, 0, 'Veppampatttu'),\n",
       "  Text(150, 0, 'Manali'),\n",
       "  Text(151, 0, 'Jamalia'),\n",
       "  Text(152, 0, 'Kottivakkam'),\n",
       "  Text(153, 0, 'Gokulapuram'),\n",
       "  Text(154, 0, 'Iyyapa Nagar'),\n",
       "  Text(155, 0, 'West Tambaram'),\n",
       "  Text(156, 0, 'Old Pallavaram'),\n",
       "  Text(157, 0, 'Sriperumbudur'),\n",
       "  Text(158, 0, 'Ponniammanmedu'),\n",
       "  Text(159, 0, 'Kovalam'),\n",
       "  Text(160, 0, 'CIT Nagar'),\n",
       "  Text(161, 0, 'Agaramthen'),\n",
       "  Text(162, 0, 'Vengambakkam'),\n",
       "  Text(163, 0, 'Mambakkam'),\n",
       "  Text(164, 0, 'Nallambakkam'),\n",
       "  Text(165, 0, 'Peerakankaranai'),\n",
       "  Text(166, 0, 'Rathinamangalam'),\n",
       "  Text(167, 0, 'Nandambakkam'),\n",
       "  Text(168, 0, 'Jafferkhanpet'),\n",
       "  Text(169, 0, 'Arumbakkam'),\n",
       "  Text(170, 0, 'Kuthambakkam'),\n",
       "  Text(171, 0, 'Thirumalpur'),\n",
       "  Text(172, 0, 'Mahindra World City'),\n",
       "  Text(173, 0, 'Oragadam Industrial Corridor'),\n",
       "  Text(174, 0, 'Ragavendra Colony'),\n",
       "  Text(175, 0, 'Ambattur INDUSTRIAL ESTATE'),\n",
       "  Text(176, 0, 'Mannivakkam'),\n",
       "  Text(177, 0, 'Kil Ayanambakkam')])"
      ]
     },
     "execution_count": 491,
     "metadata": {},
     "output_type": "execute_result"
    },
    {
     "data": {
      "image/png": "[encoded data removed]",
      "text/plain": [
       "<Figure size 1440x360 with 1 Axes>"
      ]
     },
     "metadata": {
      "needs_background": "light"
     },
     "output_type": "display_data"
    }
   ],
   "source": [
    "plt.figure(figsize=(20, 5))\n",
    "sns.countplot(x='location', data=df, hue='status')\n",
    "plt.legend(bbox_to_anchor=(1.05, 1))\n",
    "plt.xticks(rotation=90)"
   ]
  },
  {
   "cell_type": "code",
   "execution_count": 492,
   "id": "7fc323b5",
   "metadata": {},
   "outputs": [],
   "source": [
    "from sklearn.preprocessing import OneHotEncoder, LabelEncoder"
   ]
  },
  {
   "cell_type": "code",
   "execution_count": 493,
   "id": "d1849491",
   "metadata": {},
   "outputs": [
    {
     "data": {
      "text/plain": [
       "array(['MP Developers', 'DAC Promoters',\n",
       "       'Casagrand Builder Private Limited', 'Dugar Housing Builders',\n",
       "       'Radiance Realty Developers India Ltd', 'Traventure Homes Pvt Ltd',\n",
       "       'Urbanrise', 'Navin Housing Properties P LTD',\n",
       "       'Jones foundation private limited', 'Isha Homes',\n",
       "       'Kochar Homes Pvt Ltd', 'Pushkar Properties Pvt Ltd',\n",
       "       'Asset Tree Homes', 'Urban Tree Infrastructures', 'Olympia Group',\n",
       "       'Vijay Raja Homes Private Limited', 'Kamalam Builder Pvt Ltd',\n",
       "       'Appaswamy Real Estate', 'VNR Homes', 'PS Srijan Developers',\n",
       "       'Lifestyle Housing', 'Puravankara Limited', 'Jones Foundations',\n",
       "       'Plaza Group', 'Urbando Housing LLP', 'EK Realtors',\n",
       "       'The Nest Builder', 'Doshi Housing', 'Grandstyle constructions',\n",
       "       'vinoth builders', 'GTK Foundations', 'Baashyaam Group', 'chris',\n",
       "       'Krishna Constructions', 'AKS Housing Dedvelopment Pvt Ltd',\n",
       "       'Mayances Construction and Engineering Services',\n",
       "       'Ramaniyam Real Estate Builders', 'India Builders Limited', 'Ram',\n",
       "       'Shatapatri Estates Pvt Ltd', 'Shri Raman Developers',\n",
       "       'Sri Hari Developers', 'Radiance Realty Developers',\n",
       "       'Pacifica Companies', 'BSCPL Infrastructure Ltd', 'Khurinji Homes',\n",
       "       'Saradeuz Realty Constructions', 'VGK Builders Pvt Ltd',\n",
       "       'Amarprakash Developers Pvt Ltd', 'Hansa Estates',\n",
       "       'Prince Foundations Ltd', 'Budget Housing And Properties',\n",
       "       'SP Homes Pvt Ltd', 'Bharathi Construction',\n",
       "       'Karuppaswamy Builders', 'Merlin Group', 'Advaita Homes',\n",
       "       'Swamaan Developers', 'Poojaa Foundation', 'Global Homes',\n",
       "       'Prestige Estates Projects Ltd', 'seller', 'Pon Mariappan',\n",
       "       'HM Homes', 'INTERFACE PROPERTIES', 'R Venkatesan', 'viswaraj',\n",
       "       'Shiva', 'S Suresh Kumar', 'MEHTA REAL ESTATE CHENNAI LLP',\n",
       "       'Balamurugan', 'Alliance Group', 'Royal Square', 'Proparena',\n",
       "       'Propsource Realty Private Limited', 'Sandhya', 'Murali',\n",
       "       'Tellus Foundation', 'Jayakanthan', 'Individual Agent', 'Naveen',\n",
       "       'Shanmugam Property', 'Value reality', 'Swaminathan',\n",
       "       'smartassetsindia', 'Sri Vinayaga Real Estate', 'Nagaraj',\n",
       "       'Karthick', 'Prasanna', 'Vinay Asrani', 'Pragyansh',\n",
       "       '24K Realtors', 'Kaushik associates', 'BricksBurg', 'Dinesh',\n",
       "       'AKS REALTY SERVICES', 'Kkk Landmark',\n",
       "       'SS Square Property Developers', 'Prabha Homes', 'JA Associates',\n",
       "       'Bala', 'Sarashwathi Construction', 'Selvakumar',\n",
       "       'Right Angle Properties', 'Saravan gk', 'Evrostos Properties',\n",
       "       'Balasubramani', 'Vishnu Foundation Ltd',\n",
       "       'Yadhav constructions real estates', 'SS PROPERTIES',\n",
       "       'Prop Mart Technologies', 'Info Rich', 'JD Properties', 'Mohan',\n",
       "       'HomeFirst', 'Elite nisha', 'THAMINA HOMES', 'MC Foundation',\n",
       "       'ARB HOMES', 'South Zone Realty Consulting Pvt Ltd',\n",
       "       'Luxclusive Homes', 'Vishal D', 'mohammed', 'Dee Star Properties',\n",
       "       'Chennai Gated Community', 'Balaji', 'MrPincode', 'GJ ESTATES',\n",
       "       'Venkatesh', 'DJ Properties', 'Dhivagaran', 'REALTY INDIA',\n",
       "       'MAXWORTH PROPERTIES', 'Velan Housing Properties'], dtype=object)"
      ]
     },
     "execution_count": 493,
     "metadata": {},
     "output_type": "execute_result"
    }
   ],
   "source": [
    "df['builder'].unique()"
   ]
  },
  {
   "cell_type": "code",
   "execution_count": 494,
   "id": "a198f882",
   "metadata": {},
   "outputs": [
    {
     "data": {
      "text/plain": [
       "<matplotlib.legend.Legend at 0x18baddcc490>"
      ]
     },
     "execution_count": 494,
     "metadata": {},
     "output_type": "execute_result"
    },
    {
     "data": {
      "image/png": "[encoded data removed]",
      "text/plain": [
       "<Figure size 1440x360 with 1 Axes>"
      ]
     },
     "metadata": {
      "needs_background": "light"
     },
     "output_type": "display_data"
    }
   ],
   "source": [
    "plt.figure(figsize=(20, 5))\n",
    "sns.countplot(x='builder', data=df, hue='status')\n",
    "plt.legend(bbox_to_anchor=(1.05, 1))"
   ]
  },
  {
   "cell_type": "code",
   "execution_count": 495,
   "id": "92109f2c",
   "metadata": {},
   "outputs": [
    {
     "data": {
      "text/plain": [
       "<AxesSubplot:>"
      ]
     },
     "execution_count": 495,
     "metadata": {},
     "output_type": "execute_result"
    },
    {
     "data": {
      "image/png": "[encoded data removed]",
      "text/plain": [
       "<Figure size 432x288 with 2 Axes>"
      ]
     },
     "metadata": {
      "needs_background": "light"
     },
     "output_type": "display_data"
    }
   ],
   "source": [
    "sns.heatmap(data=df.corr(), annot=True, cmap='ocean_r')"
   ]
  },
  {
   "cell_type": "code",
   "execution_count": 496,
   "id": "9aa0dc21",
   "metadata": {},
   "outputs": [],
   "source": [
    "features = ['area', 'bhk', 'Ready to move', 'Under Construction']"
   ]
  },
  {
   "cell_type": "code",
   "execution_count": 497,
   "id": "f06801cb",
   "metadata": {},
   "outputs": [],
   "source": [
    "X = df[features].values"
   ]
  },
  {
   "cell_type": "code",
   "execution_count": 498,
   "id": "1fa0fce7",
   "metadata": {},
   "outputs": [
    {
     "data": {
      "text/plain": [
       "array([[ 872,    2,    1,    0],\n",
       "       [1346,    3,    0,    1],\n",
       "       [2225,    3,    0,    1],\n",
       "       ...,\n",
       "       [ 800,    2,    1,    0],\n",
       "       [ 850,    2,    1,    0],\n",
       "       [ 900,    2,    1,    0]], dtype=int64)"
      ]
     },
     "execution_count": 498,
     "metadata": {},
     "output_type": "execute_result"
    }
   ],
   "source": [
    "X"
   ]
  },
  {
   "cell_type": "code",
   "execution_count": 499,
   "id": "a383cb5f",
   "metadata": {},
   "outputs": [],
   "source": [
    "y = df['price'].values"
   ]
  },
  {
   "cell_type": "code",
   "execution_count": 500,
   "id": "e88493bc",
   "metadata": {},
   "outputs": [],
   "source": [
    "from sklearn.model_selection import train_test_split"
   ]
  },
  {
   "cell_type": "code",
   "execution_count": 501,
   "id": "250cd4f4",
   "metadata": {},
   "outputs": [],
   "source": [
    "X_train, X_test, y_train, y_test = train_test_split(X, y, test_size=20, random_state=90)"
   ]
  },
  {
   "cell_type": "code",
   "execution_count": 502,
   "id": "5d598049",
   "metadata": {},
   "outputs": [],
   "source": [
    "from sklearn.preprocessing import MinMaxScaler"
   ]
  },
  {
   "cell_type": "code",
   "execution_count": 503,
   "id": "486d4265",
   "metadata": {},
   "outputs": [],
   "source": [
    "scaler = MinMaxScaler()"
   ]
  },
  {
   "cell_type": "code",
   "execution_count": 504,
   "id": "14f765f5",
   "metadata": {},
   "outputs": [
    {
     "data": {
      "text/plain": [
       "MinMaxScaler()"
      ]
     },
     "execution_count": 504,
     "metadata": {},
     "output_type": "execute_result"
    }
   ],
   "source": [
    "scaler.fit(X_train)"
   ]
  },
  {
   "cell_type": "code",
   "execution_count": 505,
   "id": "ac77601e",
   "metadata": {},
   "outputs": [],
   "source": [
    "X_train = scaler.transform(X_train)"
   ]
  },
  {
   "cell_type": "code",
   "execution_count": 506,
   "id": "84d2b9ae",
   "metadata": {},
   "outputs": [],
   "source": [
    "X_test = scaler.transform(X_test)"
   ]
  },
  {
   "cell_type": "code",
   "execution_count": 507,
   "id": "d56c99f6",
   "metadata": {},
   "outputs": [],
   "source": [
    "from sklearn.linear_model import LinearRegression"
   ]
  },
  {
   "cell_type": "code",
   "execution_count": 508,
   "id": "509ce621",
   "metadata": {},
   "outputs": [],
   "source": [
    "lr_model = LinearRegression(normalize=True)"
   ]
  },
  {
   "cell_type": "code",
   "execution_count": 509,
   "id": "a025780d",
   "metadata": {},
   "outputs": [
    {
     "data": {
      "text/plain": [
       "LinearRegression(normalize=True)"
      ]
     },
     "execution_count": 509,
     "metadata": {},
     "output_type": "execute_result"
    }
   ],
   "source": [
    "lr_model.fit(X_train, y_train)"
   ]
  },
  {
   "cell_type": "code",
   "execution_count": 510,
   "id": "e2b604c2",
   "metadata": {},
   "outputs": [],
   "source": [
    "pred = lr_model.predict(X_test)"
   ]
  },
  {
   "cell_type": "code",
   "execution_count": 511,
   "id": "80752b7e",
   "metadata": {},
   "outputs": [
    {
     "data": {
      "text/plain": [
       "array([ 35.124696  ,  64.09507824,  37.90258486,  89.72468162,\n",
       "        35.4536932 ,  62.07208078,  98.5619863 ,  43.01331527,\n",
       "        96.75193594, 104.94082277, 152.65054987,  57.28077102,\n",
       "        55.47072066,  62.27545134, 137.42483217,  88.96979022,\n",
       "        55.47072066, 153.92823248,  43.54568303,  43.22626237])"
      ]
     },
     "execution_count": 511,
     "metadata": {},
     "output_type": "execute_result"
    }
   ],
   "source": [
    "pred"
   ]
  },
  {
   "cell_type": "code",
   "execution_count": 512,
   "id": "6d4ff504",
   "metadata": {},
   "outputs": [],
   "source": [
    "from sklearn.metrics import mean_absolute_error, mean_squared_error, r2_score"
   ]
  },
  {
   "cell_type": "code",
   "execution_count": 513,
   "id": "d79525cb",
   "metadata": {},
   "outputs": [
    {
     "data": {
      "text/plain": [
       "19.294977075445985"
      ]
     },
     "execution_count": 513,
     "metadata": {},
     "output_type": "execute_result"
    }
   ],
   "source": [
    "mean_absolute_error(y_test, pred)"
   ]
  },
  {
   "cell_type": "code",
   "execution_count": 514,
   "id": "089fd6d0",
   "metadata": {},
   "outputs": [
    {
     "data": {
      "text/plain": [
       "657.4070704751532"
      ]
     },
     "execution_count": 514,
     "metadata": {},
     "output_type": "execute_result"
    }
   ],
   "source": [
    "mean_squared_error(y_test, pred)"
   ]
  },
  {
   "cell_type": "code",
   "execution_count": 515,
   "id": "8bec50d8",
   "metadata": {},
   "outputs": [
    {
     "data": {
      "text/plain": [
       "25.63995067224493"
      ]
     },
     "execution_count": 515,
     "metadata": {},
     "output_type": "execute_result"
    }
   ],
   "source": [
    "np.sqrt(mean_squared_error(y_test, pred))"
   ]
  },
  {
   "cell_type": "code",
   "execution_count": 516,
   "id": "58f50601",
   "metadata": {},
   "outputs": [
    {
     "data": {
      "text/plain": [
       "0.541288302514675"
      ]
     },
     "execution_count": 516,
     "metadata": {},
     "output_type": "execute_result"
    }
   ],
   "source": [
    "r2_score(y_test, pred)"
   ]
  },
  {
   "cell_type": "code",
   "execution_count": 517,
   "id": "51670660",
   "metadata": {},
   "outputs": [],
   "source": [
    "q = [2225, 3, 0, 1]\n",
    "\n",
    "# ['area', 'bhk', 'Ready to move', 'Under Construction']"
   ]
  },
  {
   "cell_type": "code",
   "execution_count": 518,
   "id": "dcce7ec1",
   "metadata": {},
   "outputs": [],
   "source": [
    "p = lr_model.predict([q])"
   ]
  },
  {
   "cell_type": "code",
   "execution_count": 519,
   "id": "e624f725",
   "metadata": {},
   "outputs": [
    {
     "data": {
      "text/plain": [
       "array([1321748.26170875])"
      ]
     },
     "execution_count": 519,
     "metadata": {},
     "output_type": "execute_result"
    }
   ],
   "source": [
    "p"
   ]
  },
  {
   "cell_type": "code",
   "execution_count": 520,
   "id": "611d1636",
   "metadata": {},
   "outputs": [
    {
     "data": {
      "text/html": [
       "<div>\n",
       "<style scoped>\n",
       "    .dataframe tbody tr th:only-of-type {\n",
       "        vertical-align: middle;\n",
       "    }\n",
       "\n",
       "    .dataframe tbody tr th {\n",
       "        vertical-align: top;\n",
       "    }\n",
       "\n",
       "    .dataframe thead th {\n",
       "        text-align: right;\n",
       "    }\n",
       "</style>\n",
       "<table border=\"1\" class=\"dataframe\">\n",
       "  <thead>\n",
       "    <tr style=\"text-align: right;\">\n",
       "      <th></th>\n",
       "      <th>price</th>\n",
       "      <th>area</th>\n",
       "      <th>status</th>\n",
       "      <th>bhk</th>\n",
       "      <th>location</th>\n",
       "      <th>builder</th>\n",
       "      <th>Ready to move</th>\n",
       "      <th>Under Construction</th>\n",
       "    </tr>\n",
       "  </thead>\n",
       "  <tbody>\n",
       "    <tr>\n",
       "      <th>0</th>\n",
       "      <td>37.49</td>\n",
       "      <td>872</td>\n",
       "      <td>Ready to move</td>\n",
       "      <td>2</td>\n",
       "      <td>Sembakkam</td>\n",
       "      <td>MP Developers</td>\n",
       "      <td>1</td>\n",
       "      <td>0</td>\n",
       "    </tr>\n",
       "    <tr>\n",
       "      <th>1</th>\n",
       "      <td>93.54</td>\n",
       "      <td>1346</td>\n",
       "      <td>Under Construction</td>\n",
       "      <td>3</td>\n",
       "      <td>Selaiyur</td>\n",
       "      <td>DAC Promoters</td>\n",
       "      <td>0</td>\n",
       "      <td>1</td>\n",
       "    </tr>\n",
       "    <tr>\n",
       "      <th>2</th>\n",
       "      <td>151.00</td>\n",
       "      <td>2225</td>\n",
       "      <td>Under Construction</td>\n",
       "      <td>3</td>\n",
       "      <td>Mogappair</td>\n",
       "      <td>Casagrand Builder Private Limited</td>\n",
       "      <td>0</td>\n",
       "      <td>1</td>\n",
       "    </tr>\n",
       "    <tr>\n",
       "      <th>3</th>\n",
       "      <td>49.00</td>\n",
       "      <td>1028</td>\n",
       "      <td>Ready to move</td>\n",
       "      <td>2</td>\n",
       "      <td>Ambattur</td>\n",
       "      <td>Dugar Housing Builders</td>\n",
       "      <td>1</td>\n",
       "      <td>0</td>\n",
       "    </tr>\n",
       "    <tr>\n",
       "      <th>4</th>\n",
       "      <td>42.28</td>\n",
       "      <td>588</td>\n",
       "      <td>Under Construction</td>\n",
       "      <td>2</td>\n",
       "      <td>Pallavaram</td>\n",
       "      <td>Radiance Realty Developers India Ltd</td>\n",
       "      <td>0</td>\n",
       "      <td>1</td>\n",
       "    </tr>\n",
       "  </tbody>\n",
       "</table>\n",
       "</div>"
      ],
      "text/plain": [
       "    price  area              status  bhk    location  \\\n",
       "0   37.49   872       Ready to move    2   Sembakkam   \n",
       "1   93.54  1346  Under Construction    3    Selaiyur   \n",
       "2  151.00  2225  Under Construction    3   Mogappair   \n",
       "3   49.00  1028       Ready to move    2    Ambattur   \n",
       "4   42.28   588  Under Construction    2  Pallavaram   \n",
       "\n",
       "                                builder  Ready to move  Under Construction  \n",
       "0                         MP Developers              1                   0  \n",
       "1                         DAC Promoters              0                   1  \n",
       "2     Casagrand Builder Private Limited              0                   1  \n",
       "3                Dugar Housing Builders              1                   0  \n",
       "4  Radiance Realty Developers India Ltd              0                   1  "
      ]
     },
     "execution_count": 520,
     "metadata": {},
     "output_type": "execute_result"
    }
   ],
   "source": [
    "df.head()"
   ]
  },
  {
   "cell_type": "code",
   "execution_count": 521,
   "id": "053579dc",
   "metadata": {},
   "outputs": [],
   "source": [
    "from tensorflow.keras.models import Sequential\n",
    "from tensorflow.keras.layers import Dense"
   ]
  },
  {
   "cell_type": "code",
   "execution_count": 522,
   "id": "a616f8da",
   "metadata": {},
   "outputs": [],
   "source": [
    "model = Sequential()\n",
    "\n",
    "model.add(Dense(units=4, activation='relu'))\n",
    "model.add(Dense(units=4, activation='relu'))\n",
    "model.add(Dense(units=4, activation='relu'))\n",
    "model.add(Dense(units=4, activation='relu'))\n",
    "\n",
    "model.add(Dense(1))\n",
    "model.compile(optimizer='rmsprop', loss='mse')"
   ]
  },
  {
   "cell_type": "code",
   "execution_count": 523,
   "id": "b5bf90b4",
   "metadata": {},
   "outputs": [
    {
     "name": "stdout",
     "output_type": "stream",
     "text": [
      "Epoch 1/200\n",
      "81/81 [==============================] - 1s 1ms/step - loss: 14956.4922\n",
      "Epoch 2/200\n",
      "81/81 [==============================] - 0s 1ms/step - loss: 14915.4570\n",
      "Epoch 3/200\n",
      "81/81 [==============================] - 0s 1ms/step - loss: 14857.6143\n",
      "Epoch 4/200\n",
      "81/81 [==============================] - 0s 1ms/step - loss: 14775.3135\n",
      "Epoch 5/200\n",
      "81/81 [==============================] - 0s 1ms/step - loss: 14653.4844\n",
      "Epoch 6/200\n",
      "81/81 [==============================] - 0s 1ms/step - loss: 14467.8213\n",
      "Epoch 7/200\n",
      "81/81 [==============================] - 0s 1ms/step - loss: 14205.1855\n",
      "Epoch 8/200\n",
      "81/81 [==============================] - 0s 1ms/step - loss: 13845.5752\n",
      "Epoch 9/200\n",
      "81/81 [==============================] - 0s 2ms/step - loss: 13347.0566\n",
      "Epoch 10/200\n",
      "81/81 [==============================] - 0s 2ms/step - loss: 12676.1914\n",
      "Epoch 11/200\n",
      "81/81 [==============================] - 0s 2ms/step - loss: 11817.1230\n",
      "Epoch 12/200\n",
      "81/81 [==============================] - 0s 2ms/step - loss: 10777.0186\n",
      "Epoch 13/200\n",
      "81/81 [==============================] - 0s 2ms/step - loss: 9613.6719\n",
      "Epoch 14/200\n",
      "81/81 [==============================] - 0s 2ms/step - loss: 8407.4570\n",
      "Epoch 15/200\n",
      "81/81 [==============================] - 0s 2ms/step - loss: 7330.5488\n",
      "Epoch 16/200\n",
      "81/81 [==============================] - 0s 2ms/step - loss: 6651.9893\n",
      "Epoch 17/200\n",
      "81/81 [==============================] - 0s 2ms/step - loss: 6400.6196\n",
      "Epoch 18/200\n",
      "81/81 [==============================] - 0s 2ms/step - loss: 6317.2705\n",
      "Epoch 19/200\n",
      "81/81 [==============================] - 0s 2ms/step - loss: 6242.9399\n",
      "Epoch 20/200\n",
      "81/81 [==============================] - 0s 2ms/step - loss: 6183.6084\n",
      "Epoch 21/200\n",
      "81/81 [==============================] - 0s 1ms/step - loss: 6122.5000\n",
      "Epoch 22/200\n",
      "81/81 [==============================] - 0s 2ms/step - loss: 6060.1562\n",
      "Epoch 23/200\n",
      "81/81 [==============================] - 0s 2ms/step - loss: 5998.2339\n",
      "Epoch 24/200\n",
      "81/81 [==============================] - 0s 2ms/step - loss: 5928.0669\n",
      "Epoch 25/200\n",
      "81/81 [==============================] - 0s 2ms/step - loss: 5858.0308\n",
      "Epoch 26/200\n",
      "81/81 [==============================] - 0s 2ms/step - loss: 5785.1416\n",
      "Epoch 27/200\n",
      "81/81 [==============================] - 0s 2ms/step - loss: 5711.6240\n",
      "Epoch 28/200\n",
      "81/81 [==============================] - 0s 2ms/step - loss: 5634.9390\n",
      "Epoch 29/200\n",
      "81/81 [==============================] - 0s 2ms/step - loss: 5560.8643\n",
      "Epoch 30/200\n",
      "81/81 [==============================] - 0s 2ms/step - loss: 5484.9390\n",
      "Epoch 31/200\n",
      "81/81 [==============================] - 0s 2ms/step - loss: 5404.1978\n",
      "Epoch 32/200\n",
      "81/81 [==============================] - 0s 1ms/step - loss: 5311.9424\n",
      "Epoch 33/200\n",
      "81/81 [==============================] - 0s 2ms/step - loss: 5214.9209\n",
      "Epoch 34/200\n",
      "81/81 [==============================] - 0s 2ms/step - loss: 5120.9873\n",
      "Epoch 35/200\n",
      "81/81 [==============================] - 0s 2ms/step - loss: 5025.7646\n",
      "Epoch 36/200\n",
      "81/81 [==============================] - 0s 2ms/step - loss: 4922.5132\n",
      "Epoch 37/200\n",
      "81/81 [==============================] - 0s 1ms/step - loss: 4834.4678\n",
      "Epoch 38/200\n",
      "81/81 [==============================] - 0s 1ms/step - loss: 4734.3774\n",
      "Epoch 39/200\n",
      "81/81 [==============================] - 0s 1ms/step - loss: 4620.7915\n",
      "Epoch 40/200\n",
      "81/81 [==============================] - 0s 1ms/step - loss: 4506.8125\n",
      "Epoch 41/200\n",
      "81/81 [==============================] - 0s 2ms/step - loss: 4387.0645\n",
      "Epoch 42/200\n",
      "81/81 [==============================] - 0s 2ms/step - loss: 4277.4683\n",
      "Epoch 43/200\n",
      "81/81 [==============================] - 0s 2ms/step - loss: 4164.4834\n",
      "Epoch 44/200\n",
      "81/81 [==============================] - 0s 2ms/step - loss: 4044.0288\n",
      "Epoch 45/200\n",
      "81/81 [==============================] - 0s 2ms/step - loss: 3936.1238\n",
      "Epoch 46/200\n",
      "81/81 [==============================] - 0s 2ms/step - loss: 3830.4976\n",
      "Epoch 47/200\n",
      "81/81 [==============================] - 0s 2ms/step - loss: 3721.3145\n",
      "Epoch 48/200\n",
      "81/81 [==============================] - 0s 1ms/step - loss: 3617.6279\n",
      "Epoch 49/200\n",
      "81/81 [==============================] - 0s 1ms/step - loss: 3527.0439\n",
      "Epoch 50/200\n",
      "81/81 [==============================] - 0s 1ms/step - loss: 3445.6384\n",
      "Epoch 51/200\n",
      "81/81 [==============================] - 0s 1ms/step - loss: 3368.2424\n",
      "Epoch 52/200\n",
      "81/81 [==============================] - 0s 2ms/step - loss: 3298.8311\n",
      "Epoch 53/200\n",
      "81/81 [==============================] - 0s 2ms/step - loss: 3232.6597\n",
      "Epoch 54/200\n",
      "81/81 [==============================] - 0s 1ms/step - loss: 3176.4517\n",
      "Epoch 55/200\n",
      "81/81 [==============================] - 0s 1ms/step - loss: 3123.8618\n",
      "Epoch 56/200\n",
      "81/81 [==============================] - 0s 1ms/step - loss: 3081.9246\n",
      "Epoch 57/200\n",
      "81/81 [==============================] - 0s 1ms/step - loss: 3051.4539\n",
      "Epoch 58/200\n",
      "81/81 [==============================] - 0s 1ms/step - loss: 3025.9448\n",
      "Epoch 59/200\n",
      "81/81 [==============================] - 0s 1ms/step - loss: 3007.4377\n",
      "Epoch 60/200\n",
      "81/81 [==============================] - 0s 1ms/step - loss: 2990.2256\n",
      "Epoch 61/200\n",
      "81/81 [==============================] - 0s 2ms/step - loss: 2974.0913\n",
      "Epoch 62/200\n",
      "81/81 [==============================] - 0s 2ms/step - loss: 2958.8113\n",
      "Epoch 63/200\n",
      "81/81 [==============================] - 0s 2ms/step - loss: 2946.2961\n",
      "Epoch 64/200\n",
      "81/81 [==============================] - 0s 1ms/step - loss: 2934.8501\n",
      "Epoch 65/200\n",
      "81/81 [==============================] - 0s 2ms/step - loss: 2923.5588\n",
      "Epoch 66/200\n",
      "81/81 [==============================] - 0s 2ms/step - loss: 2910.4773\n",
      "Epoch 67/200\n",
      "81/81 [==============================] - 0s 2ms/step - loss: 2899.2644\n",
      "Epoch 68/200\n",
      "81/81 [==============================] - 0s 1ms/step - loss: 2881.1477\n",
      "Epoch 69/200\n",
      "81/81 [==============================] - 0s 1ms/step - loss: 2862.2004\n",
      "Epoch 70/200\n",
      "81/81 [==============================] - 0s 1ms/step - loss: 2842.5007\n",
      "Epoch 71/200\n",
      "81/81 [==============================] - 0s 2ms/step - loss: 2825.6628\n",
      "Epoch 72/200\n",
      "81/81 [==============================] - 0s 2ms/step - loss: 2803.1892\n",
      "Epoch 73/200\n",
      "81/81 [==============================] - 0s 1ms/step - loss: 2779.6228\n",
      "Epoch 74/200\n",
      "81/81 [==============================] - 0s 1ms/step - loss: 2759.8906\n",
      "Epoch 75/200\n",
      "81/81 [==============================] - 0s 1ms/step - loss: 2737.9868\n",
      "Epoch 76/200\n",
      "81/81 [==============================] - 0s 1ms/step - loss: 2725.1909\n",
      "Epoch 77/200\n",
      "81/81 [==============================] - 0s 1ms/step - loss: 2704.7368\n",
      "Epoch 78/200\n",
      "81/81 [==============================] - 0s 2ms/step - loss: 2687.8638\n",
      "Epoch 79/200\n",
      "81/81 [==============================] - 0s 2ms/step - loss: 2673.9834\n",
      "Epoch 80/200\n",
      "81/81 [==============================] - 0s 2ms/step - loss: 2662.7332\n",
      "Epoch 81/200\n",
      "81/81 [==============================] - 0s 2ms/step - loss: 2655.1694\n",
      "Epoch 82/200\n",
      "81/81 [==============================] - 0s 1ms/step - loss: 2649.5056\n",
      "Epoch 83/200\n",
      "81/81 [==============================] - 0s 2ms/step - loss: 2641.9434\n",
      "Epoch 84/200\n",
      "81/81 [==============================] - 0s 2ms/step - loss: 2636.3140\n",
      "Epoch 85/200\n",
      "81/81 [==============================] - 0s 2ms/step - loss: 2632.9949\n",
      "Epoch 86/200\n",
      "81/81 [==============================] - 0s 2ms/step - loss: 2627.8352\n",
      "Epoch 87/200\n",
      "81/81 [==============================] - 0s 1ms/step - loss: 2621.1836\n",
      "Epoch 88/200\n",
      "81/81 [==============================] - 0s 1ms/step - loss: 2623.5234\n",
      "Epoch 89/200\n",
      "81/81 [==============================] - 0s 2ms/step - loss: 2620.2581\n",
      "Epoch 90/200\n",
      "81/81 [==============================] - 0s 1ms/step - loss: 2617.5291\n",
      "Epoch 91/200\n",
      "81/81 [==============================] - 0s 2ms/step - loss: 2615.6526\n",
      "Epoch 92/200\n",
      "81/81 [==============================] - 0s 2ms/step - loss: 2611.8999\n",
      "Epoch 93/200\n",
      "81/81 [==============================] - 0s 2ms/step - loss: 2610.2380\n",
      "Epoch 94/200\n",
      "81/81 [==============================] - 0s 2ms/step - loss: 2607.7366\n",
      "Epoch 95/200\n",
      "81/81 [==============================] - 0s 1ms/step - loss: 2604.7139\n",
      "Epoch 96/200\n",
      "81/81 [==============================] - 0s 1ms/step - loss: 2604.2427\n",
      "Epoch 97/200\n",
      "81/81 [==============================] - 0s 1ms/step - loss: 2599.4380\n",
      "Epoch 98/200\n"
     ]
    },
    {
     "name": "stdout",
     "output_type": "stream",
     "text": [
      "81/81 [==============================] - 0s 1ms/step - loss: 2600.3425\n",
      "Epoch 99/200\n",
      "81/81 [==============================] - 0s 1ms/step - loss: 2597.8486\n",
      "Epoch 100/200\n",
      "81/81 [==============================] - 0s 1ms/step - loss: 2595.6099\n",
      "Epoch 101/200\n",
      "81/81 [==============================] - 0s 2ms/step - loss: 2592.9470\n",
      "Epoch 102/200\n",
      "81/81 [==============================] - 0s 1ms/step - loss: 2592.5510\n",
      "Epoch 103/200\n",
      "81/81 [==============================] - 0s 1ms/step - loss: 2588.0991\n",
      "Epoch 104/200\n",
      "81/81 [==============================] - 0s 1ms/step - loss: 2586.4917\n",
      "Epoch 105/200\n",
      "81/81 [==============================] - 0s 1ms/step - loss: 2588.0325\n",
      "Epoch 106/200\n",
      "81/81 [==============================] - 0s 1ms/step - loss: 2586.1812\n",
      "Epoch 107/200\n",
      "81/81 [==============================] - 0s 2ms/step - loss: 2584.0952\n",
      "Epoch 108/200\n",
      "81/81 [==============================] - 0s 1ms/step - loss: 2582.2524\n",
      "Epoch 109/200\n",
      "81/81 [==============================] - 0s 1ms/step - loss: 2580.5571\n",
      "Epoch 110/200\n",
      "81/81 [==============================] - 0s 1ms/step - loss: 2579.1282\n",
      "Epoch 111/200\n",
      "81/81 [==============================] - 0s 1ms/step - loss: 2576.8604\n",
      "Epoch 112/200\n",
      "81/81 [==============================] - 0s 1ms/step - loss: 2573.6082\n",
      "Epoch 113/200\n",
      "81/81 [==============================] - 0s 1ms/step - loss: 2575.7825\n",
      "Epoch 114/200\n",
      "81/81 [==============================] - 0s 2ms/step - loss: 2572.2466\n",
      "Epoch 115/200\n",
      "81/81 [==============================] - 0s 2ms/step - loss: 2572.3418\n",
      "Epoch 116/200\n",
      "81/81 [==============================] - 0s 2ms/step - loss: 2568.9688\n",
      "Epoch 117/200\n",
      "81/81 [==============================] - 0s 1ms/step - loss: 2568.5942\n",
      "Epoch 118/200\n",
      "81/81 [==============================] - 0s 1ms/step - loss: 2567.1536\n",
      "Epoch 119/200\n",
      "81/81 [==============================] - 0s 2ms/step - loss: 2564.7380\n",
      "Epoch 120/200\n",
      "81/81 [==============================] - 0s 2ms/step - loss: 2557.3040\n",
      "Epoch 121/200\n",
      "81/81 [==============================] - 0s 2ms/step - loss: 2561.0264\n",
      "Epoch 122/200\n",
      "81/81 [==============================] - 0s 2ms/step - loss: 2560.4658\n",
      "Epoch 123/200\n",
      "81/81 [==============================] - 0s 1ms/step - loss: 2559.9421\n",
      "Epoch 124/200\n",
      "81/81 [==============================] - 0s 2ms/step - loss: 2556.5425\n",
      "Epoch 125/200\n",
      "81/81 [==============================] - 0s 2ms/step - loss: 2558.7410\n",
      "Epoch 126/200\n",
      "81/81 [==============================] - 0s 1ms/step - loss: 2556.9812\n",
      "Epoch 127/200\n",
      "81/81 [==============================] - 0s 2ms/step - loss: 2553.9353\n",
      "Epoch 128/200\n",
      "81/81 [==============================] - 0s 2ms/step - loss: 2552.9746\n",
      "Epoch 129/200\n",
      "81/81 [==============================] - 0s 1ms/step - loss: 2549.8096\n",
      "Epoch 130/200\n",
      "81/81 [==============================] - 0s 2ms/step - loss: 2547.3418\n",
      "Epoch 131/200\n",
      "81/81 [==============================] - 0s 2ms/step - loss: 2548.7559\n",
      "Epoch 132/200\n",
      "81/81 [==============================] - 0s 2ms/step - loss: 2548.3665\n",
      "Epoch 133/200\n",
      "81/81 [==============================] - 0s 1ms/step - loss: 2547.5330\n",
      "Epoch 134/200\n",
      "81/81 [==============================] - 0s 1ms/step - loss: 2545.3750\n",
      "Epoch 135/200\n",
      "81/81 [==============================] - 0s 1ms/step - loss: 2544.8713\n",
      "Epoch 136/200\n",
      "81/81 [==============================] - 0s 1ms/step - loss: 2544.6506\n",
      "Epoch 137/200\n",
      "81/81 [==============================] - 0s 1ms/step - loss: 2544.8984\n",
      "Epoch 138/200\n",
      "81/81 [==============================] - 0s 997us/step - loss: 2538.1208\n",
      "Epoch 139/200\n",
      "81/81 [==============================] - 0s 1ms/step - loss: 2542.4880\n",
      "Epoch 140/200\n",
      "81/81 [==============================] - 0s 1ms/step - loss: 2540.3730\n",
      "Epoch 141/200\n",
      "81/81 [==============================] - 0s 1ms/step - loss: 2535.8164\n",
      "Epoch 142/200\n",
      "81/81 [==============================] - 0s 1ms/step - loss: 2534.4272\n",
      "Epoch 143/200\n",
      "81/81 [==============================] - 0s 2ms/step - loss: 2535.2507\n",
      "Epoch 144/200\n",
      "81/81 [==============================] - 0s 2ms/step - loss: 2535.6904\n",
      "Epoch 145/200\n",
      "81/81 [==============================] - 0s 1ms/step - loss: 2535.5332\n",
      "Epoch 146/200\n",
      "81/81 [==============================] - 0s 1ms/step - loss: 2531.4863\n",
      "Epoch 147/200\n",
      "81/81 [==============================] - 0s 1ms/step - loss: 2532.9751\n",
      "Epoch 148/200\n",
      "81/81 [==============================] - 0s 2ms/step - loss: 2530.9114\n",
      "Epoch 149/200\n",
      "81/81 [==============================] - 0s 2ms/step - loss: 2530.2051\n",
      "Epoch 150/200\n",
      "81/81 [==============================] - 0s 2ms/step - loss: 2529.5330\n",
      "Epoch 151/200\n",
      "81/81 [==============================] - 0s 2ms/step - loss: 2521.1975\n",
      "Epoch 152/200\n",
      "81/81 [==============================] - 0s 2ms/step - loss: 2527.8301\n",
      "Epoch 153/200\n",
      "81/81 [==============================] - 0s 2ms/step - loss: 2526.0964\n",
      "Epoch 154/200\n",
      "81/81 [==============================] - 0s 2ms/step - loss: 2523.8716\n",
      "Epoch 155/200\n",
      "81/81 [==============================] - 0s 1ms/step - loss: 2522.3931\n",
      "Epoch 156/200\n",
      "81/81 [==============================] - 0s 1ms/step - loss: 2524.9756\n",
      "Epoch 157/200\n",
      "81/81 [==============================] - 0s 1ms/step - loss: 2519.7388\n",
      "Epoch 158/200\n",
      "81/81 [==============================] - 0s 1ms/step - loss: 2521.5525\n",
      "Epoch 159/200\n",
      "81/81 [==============================] - 0s 1ms/step - loss: 2519.8088\n",
      "Epoch 160/200\n",
      "81/81 [==============================] - 0s 1ms/step - loss: 2518.6040\n",
      "Epoch 161/200\n",
      "81/81 [==============================] - 0s 2ms/step - loss: 2519.5120\n",
      "Epoch 162/200\n",
      "81/81 [==============================] - 0s 2ms/step - loss: 2518.0630\n",
      "Epoch 163/200\n",
      "81/81 [==============================] - 0s 2ms/step - loss: 2517.8511\n",
      "Epoch 164/200\n",
      "81/81 [==============================] - 0s 2ms/step - loss: 2514.1187\n",
      "Epoch 165/200\n",
      "81/81 [==============================] - 0s 1ms/step - loss: 2514.1213\n",
      "Epoch 166/200\n",
      "81/81 [==============================] - 0s 2ms/step - loss: 2512.5754\n",
      "Epoch 167/200\n",
      "81/81 [==============================] - 0s 1ms/step - loss: 2514.6445\n",
      "Epoch 168/200\n",
      "81/81 [==============================] - 0s 1ms/step - loss: 2511.2197\n",
      "Epoch 169/200\n",
      "81/81 [==============================] - 0s 1ms/step - loss: 2512.3816\n",
      "Epoch 170/200\n",
      "81/81 [==============================] - 0s 1ms/step - loss: 2510.2954\n",
      "Epoch 171/200\n",
      "81/81 [==============================] - 0s 1ms/step - loss: 2506.4014\n",
      "Epoch 172/200\n",
      "81/81 [==============================] - 0s 1ms/step - loss: 2509.8796\n",
      "Epoch 173/200\n",
      "81/81 [==============================] - 0s 1ms/step - loss: 2507.2083\n",
      "Epoch 174/200\n",
      "81/81 [==============================] - 0s 1ms/step - loss: 2506.9238\n",
      "Epoch 175/200\n",
      "81/81 [==============================] - 0s 1ms/step - loss: 2502.0781\n",
      "Epoch 176/200\n",
      "81/81 [==============================] - 0s 1ms/step - loss: 2506.6885\n",
      "Epoch 177/200\n",
      "81/81 [==============================] - 0s 1ms/step - loss: 2504.1370\n",
      "Epoch 178/200\n",
      "81/81 [==============================] - 0s 2ms/step - loss: 2503.3562\n",
      "Epoch 179/200\n",
      "81/81 [==============================] - 0s 2ms/step - loss: 2502.8892\n",
      "Epoch 180/200\n",
      "81/81 [==============================] - 0s 1ms/step - loss: 2500.1274\n",
      "Epoch 181/200\n",
      "81/81 [==============================] - 0s 1ms/step - loss: 2502.2722\n",
      "Epoch 182/200\n",
      "81/81 [==============================] - 0s 1ms/step - loss: 2500.2102\n",
      "Epoch 183/200\n",
      "81/81 [==============================] - 0s 1ms/step - loss: 2500.8511\n",
      "Epoch 184/200\n",
      "81/81 [==============================] - 0s 2ms/step - loss: 2499.4561\n",
      "Epoch 185/200\n",
      "81/81 [==============================] - 0s 1ms/step - loss: 2498.6816\n",
      "Epoch 186/200\n",
      "81/81 [==============================] - 0s 1ms/step - loss: 2497.5095\n",
      "Epoch 187/200\n",
      "81/81 [==============================] - 0s 1ms/step - loss: 2495.6594\n",
      "Epoch 188/200\n",
      "81/81 [==============================] - 0s 1ms/step - loss: 2496.7747\n",
      "Epoch 189/200\n",
      "81/81 [==============================] - 0s 2ms/step - loss: 2495.5671\n",
      "Epoch 190/200\n",
      "81/81 [==============================] - 0s 1ms/step - loss: 2493.1211\n",
      "Epoch 191/200\n",
      "81/81 [==============================] - 0s 1ms/step - loss: 2496.0667\n",
      "Epoch 192/200\n",
      "81/81 [==============================] - 0s 1ms/step - loss: 2493.6121\n",
      "Epoch 193/200\n",
      "81/81 [==============================] - 0s 1ms/step - loss: 2492.4897\n",
      "Epoch 194/200\n"
     ]
    },
    {
     "name": "stdout",
     "output_type": "stream",
     "text": [
      "81/81 [==============================] - 0s 2ms/step - loss: 2492.3433\n",
      "Epoch 195/200\n",
      "81/81 [==============================] - 0s 2ms/step - loss: 2489.2957\n",
      "Epoch 196/200\n",
      "81/81 [==============================] - 0s 1ms/step - loss: 2493.2239\n",
      "Epoch 197/200\n",
      "81/81 [==============================] - 0s 1ms/step - loss: 2491.5637\n",
      "Epoch 198/200\n",
      "81/81 [==============================] - 0s 1ms/step - loss: 2488.4927\n",
      "Epoch 199/200\n",
      "81/81 [==============================] - 0s 2ms/step - loss: 2490.7175\n",
      "Epoch 200/200\n",
      "81/81 [==============================] - 0s 2ms/step - loss: 2488.4102\n"
     ]
    },
    {
     "data": {
      "text/plain": [
       "<keras.callbacks.History at 0x18badb40160>"
      ]
     },
     "execution_count": 523,
     "metadata": {},
     "output_type": "execute_result"
    }
   ],
   "source": [
    "model.fit(X_train, y_train, epochs=200, verbose='auto')"
   ]
  },
  {
   "cell_type": "code",
   "execution_count": 524,
   "id": "9721feec",
   "metadata": {},
   "outputs": [],
   "source": [
    "deep_model_pred = model.predict(X_test)"
   ]
  },
  {
   "cell_type": "code",
   "execution_count": 525,
   "id": "6d482382",
   "metadata": {},
   "outputs": [
    {
     "data": {
      "text/plain": [
       "array([[ 39.461018],\n",
       "       [ 56.405136],\n",
       "       [ 42.18936 ],\n",
       "       [ 95.76236 ],\n",
       "       [ 40.860245],\n",
       "       [ 55.307175],\n",
       "       [101.84821 ],\n",
       "       [ 44.963173],\n",
       "       [100.2825  ],\n",
       "       [101.076965],\n",
       "       [148.63496 ],\n",
       "       [ 52.706722],\n",
       "       [ 51.72434 ],\n",
       "       [ 54.120407],\n",
       "       [135.46468 ],\n",
       "       [ 92.453804],\n",
       "       [ 51.72434 ],\n",
       "       [149.74017 ],\n",
       "       [ 45.252117],\n",
       "       [ 45.07875 ]], dtype=float32)"
      ]
     },
     "execution_count": 525,
     "metadata": {},
     "output_type": "execute_result"
    }
   ],
   "source": [
    "deep_model_pred"
   ]
  },
  {
   "cell_type": "code",
   "execution_count": 526,
   "id": "413d3650",
   "metadata": {},
   "outputs": [
    {
     "data": {
      "text/html": [
       "<div>\n",
       "<style scoped>\n",
       "    .dataframe tbody tr th:only-of-type {\n",
       "        vertical-align: middle;\n",
       "    }\n",
       "\n",
       "    .dataframe tbody tr th {\n",
       "        vertical-align: top;\n",
       "    }\n",
       "\n",
       "    .dataframe thead th {\n",
       "        text-align: right;\n",
       "    }\n",
       "</style>\n",
       "<table border=\"1\" class=\"dataframe\">\n",
       "  <thead>\n",
       "    <tr style=\"text-align: right;\">\n",
       "      <th></th>\n",
       "      <th>price</th>\n",
       "      <th>area</th>\n",
       "      <th>status</th>\n",
       "      <th>bhk</th>\n",
       "      <th>location</th>\n",
       "      <th>builder</th>\n",
       "      <th>Ready to move</th>\n",
       "      <th>Under Construction</th>\n",
       "    </tr>\n",
       "  </thead>\n",
       "  <tbody>\n",
       "    <tr>\n",
       "      <th>0</th>\n",
       "      <td>37.49</td>\n",
       "      <td>872</td>\n",
       "      <td>Ready to move</td>\n",
       "      <td>2</td>\n",
       "      <td>Sembakkam</td>\n",
       "      <td>MP Developers</td>\n",
       "      <td>1</td>\n",
       "      <td>0</td>\n",
       "    </tr>\n",
       "    <tr>\n",
       "      <th>1</th>\n",
       "      <td>93.54</td>\n",
       "      <td>1346</td>\n",
       "      <td>Under Construction</td>\n",
       "      <td>3</td>\n",
       "      <td>Selaiyur</td>\n",
       "      <td>DAC Promoters</td>\n",
       "      <td>0</td>\n",
       "      <td>1</td>\n",
       "    </tr>\n",
       "    <tr>\n",
       "      <th>2</th>\n",
       "      <td>151.00</td>\n",
       "      <td>2225</td>\n",
       "      <td>Under Construction</td>\n",
       "      <td>3</td>\n",
       "      <td>Mogappair</td>\n",
       "      <td>Casagrand Builder Private Limited</td>\n",
       "      <td>0</td>\n",
       "      <td>1</td>\n",
       "    </tr>\n",
       "    <tr>\n",
       "      <th>3</th>\n",
       "      <td>49.00</td>\n",
       "      <td>1028</td>\n",
       "      <td>Ready to move</td>\n",
       "      <td>2</td>\n",
       "      <td>Ambattur</td>\n",
       "      <td>Dugar Housing Builders</td>\n",
       "      <td>1</td>\n",
       "      <td>0</td>\n",
       "    </tr>\n",
       "    <tr>\n",
       "      <th>4</th>\n",
       "      <td>42.28</td>\n",
       "      <td>588</td>\n",
       "      <td>Under Construction</td>\n",
       "      <td>2</td>\n",
       "      <td>Pallavaram</td>\n",
       "      <td>Radiance Realty Developers India Ltd</td>\n",
       "      <td>0</td>\n",
       "      <td>1</td>\n",
       "    </tr>\n",
       "    <tr>\n",
       "      <th>...</th>\n",
       "      <td>...</td>\n",
       "      <td>...</td>\n",
       "      <td>...</td>\n",
       "      <td>...</td>\n",
       "      <td>...</td>\n",
       "      <td>...</td>\n",
       "      <td>...</td>\n",
       "      <td>...</td>\n",
       "    </tr>\n",
       "    <tr>\n",
       "      <th>2615</th>\n",
       "      <td>27.50</td>\n",
       "      <td>750</td>\n",
       "      <td>Ready to move</td>\n",
       "      <td>2</td>\n",
       "      <td>Veppampattu</td>\n",
       "      <td>Velan Housing Properties</td>\n",
       "      <td>1</td>\n",
       "      <td>0</td>\n",
       "    </tr>\n",
       "    <tr>\n",
       "      <th>2616</th>\n",
       "      <td>27.50</td>\n",
       "      <td>750</td>\n",
       "      <td>Ready to move</td>\n",
       "      <td>2</td>\n",
       "      <td>Veppampattu</td>\n",
       "      <td>Velan Housing Properties</td>\n",
       "      <td>1</td>\n",
       "      <td>0</td>\n",
       "    </tr>\n",
       "    <tr>\n",
       "      <th>2617</th>\n",
       "      <td>30.00</td>\n",
       "      <td>800</td>\n",
       "      <td>Ready to move</td>\n",
       "      <td>2</td>\n",
       "      <td>Veppampattu</td>\n",
       "      <td>Velan Housing Properties</td>\n",
       "      <td>1</td>\n",
       "      <td>0</td>\n",
       "    </tr>\n",
       "    <tr>\n",
       "      <th>2618</th>\n",
       "      <td>31.50</td>\n",
       "      <td>850</td>\n",
       "      <td>Ready to move</td>\n",
       "      <td>2</td>\n",
       "      <td>Veppampattu</td>\n",
       "      <td>Velan Housing Properties</td>\n",
       "      <td>1</td>\n",
       "      <td>0</td>\n",
       "    </tr>\n",
       "    <tr>\n",
       "      <th>2619</th>\n",
       "      <td>34.00</td>\n",
       "      <td>900</td>\n",
       "      <td>Ready to move</td>\n",
       "      <td>2</td>\n",
       "      <td>Veppampattu</td>\n",
       "      <td>Velan Housing Properties</td>\n",
       "      <td>1</td>\n",
       "      <td>0</td>\n",
       "    </tr>\n",
       "  </tbody>\n",
       "</table>\n",
       "<p>2590 rows × 8 columns</p>\n",
       "</div>"
      ],
      "text/plain": [
       "       price  area              status  bhk     location  \\\n",
       "0      37.49   872       Ready to move    2    Sembakkam   \n",
       "1      93.54  1346  Under Construction    3     Selaiyur   \n",
       "2     151.00  2225  Under Construction    3    Mogappair   \n",
       "3      49.00  1028       Ready to move    2     Ambattur   \n",
       "4      42.28   588  Under Construction    2   Pallavaram   \n",
       "...      ...   ...                 ...  ...          ...   \n",
       "2615   27.50   750       Ready to move    2  Veppampattu   \n",
       "2616   27.50   750       Ready to move    2  Veppampattu   \n",
       "2617   30.00   800       Ready to move    2  Veppampattu   \n",
       "2618   31.50   850       Ready to move    2  Veppampattu   \n",
       "2619   34.00   900       Ready to move    2  Veppampattu   \n",
       "\n",
       "                                   builder  Ready to move  Under Construction  \n",
       "0                            MP Developers              1                   0  \n",
       "1                            DAC Promoters              0                   1  \n",
       "2        Casagrand Builder Private Limited              0                   1  \n",
       "3                   Dugar Housing Builders              1                   0  \n",
       "4     Radiance Realty Developers India Ltd              0                   1  \n",
       "...                                    ...            ...                 ...  \n",
       "2615              Velan Housing Properties              1                   0  \n",
       "2616              Velan Housing Properties              1                   0  \n",
       "2617              Velan Housing Properties              1                   0  \n",
       "2618              Velan Housing Properties              1                   0  \n",
       "2619              Velan Housing Properties              1                   0  \n",
       "\n",
       "[2590 rows x 8 columns]"
      ]
     },
     "execution_count": 526,
     "metadata": {},
     "output_type": "execute_result"
    }
   ],
   "source": [
    "df[:]"
   ]
  },
  {
   "cell_type": "code",
   "execution_count": 527,
   "id": "34a202ed",
   "metadata": {},
   "outputs": [],
   "source": [
    "q = [750, 2, 1, 0]\n",
    "q = scaler.transform([q])"
   ]
  },
  {
   "cell_type": "code",
   "execution_count": 528,
   "id": "205cbe50",
   "metadata": {},
   "outputs": [],
   "source": [
    "r = model.predict(q)"
   ]
  },
  {
   "cell_type": "code",
   "execution_count": 529,
   "id": "6e99b576",
   "metadata": {},
   "outputs": [
    {
     "data": {
      "text/plain": [
       "array([[37.853134]], dtype=float32)"
      ]
     },
     "execution_count": 529,
     "metadata": {},
     "output_type": "execute_result"
    }
   ],
   "source": [
    "r"
   ]
  },
  {
   "cell_type": "code",
   "execution_count": 530,
   "id": "ec1f2d40",
   "metadata": {},
   "outputs": [],
   "source": [
    "####### linear model and sequencial model evaluation #######\n",
    "\n",
    "a = pd.DataFrame(pred, columns=['Linear_model_predictions'])\n",
    "b = pd.DataFrame(y_test, columns=['True_outcomes'])\n",
    "\n",
    "df1 = pd.concat([a, b], axis=1)\n",
    "\n"
   ]
  },
  {
   "cell_type": "code",
   "execution_count": 531,
   "id": "7c3877f9",
   "metadata": {},
   "outputs": [
    {
     "data": {
      "text/html": [
       "<div>\n",
       "<style scoped>\n",
       "    .dataframe tbody tr th:only-of-type {\n",
       "        vertical-align: middle;\n",
       "    }\n",
       "\n",
       "    .dataframe tbody tr th {\n",
       "        vertical-align: top;\n",
       "    }\n",
       "\n",
       "    .dataframe thead th {\n",
       "        text-align: right;\n",
       "    }\n",
       "</style>\n",
       "<table border=\"1\" class=\"dataframe\">\n",
       "  <thead>\n",
       "    <tr style=\"text-align: right;\">\n",
       "      <th></th>\n",
       "      <th>Linear_model_predictions</th>\n",
       "      <th>True_outcomes</th>\n",
       "    </tr>\n",
       "  </thead>\n",
       "  <tbody>\n",
       "    <tr>\n",
       "      <th>0</th>\n",
       "      <td>35.124696</td>\n",
       "      <td>26.75</td>\n",
       "    </tr>\n",
       "    <tr>\n",
       "      <th>1</th>\n",
       "      <td>64.095078</td>\n",
       "      <td>51.24</td>\n",
       "    </tr>\n",
       "    <tr>\n",
       "      <th>2</th>\n",
       "      <td>37.902585</td>\n",
       "      <td>44.00</td>\n",
       "    </tr>\n",
       "    <tr>\n",
       "      <th>3</th>\n",
       "      <td>89.724682</td>\n",
       "      <td>67.10</td>\n",
       "    </tr>\n",
       "    <tr>\n",
       "      <th>4</th>\n",
       "      <td>35.453693</td>\n",
       "      <td>49.44</td>\n",
       "    </tr>\n",
       "    <tr>\n",
       "      <th>5</th>\n",
       "      <td>62.072081</td>\n",
       "      <td>73.93</td>\n",
       "    </tr>\n",
       "    <tr>\n",
       "      <th>6</th>\n",
       "      <td>98.561986</td>\n",
       "      <td>63.83</td>\n",
       "    </tr>\n",
       "    <tr>\n",
       "      <th>7</th>\n",
       "      <td>43.013315</td>\n",
       "      <td>41.12</td>\n",
       "    </tr>\n",
       "    <tr>\n",
       "      <th>8</th>\n",
       "      <td>96.751936</td>\n",
       "      <td>55.00</td>\n",
       "    </tr>\n",
       "    <tr>\n",
       "      <th>9</th>\n",
       "      <td>104.940823</td>\n",
       "      <td>78.40</td>\n",
       "    </tr>\n",
       "    <tr>\n",
       "      <th>10</th>\n",
       "      <td>152.650550</td>\n",
       "      <td>201.00</td>\n",
       "    </tr>\n",
       "    <tr>\n",
       "      <th>11</th>\n",
       "      <td>57.280771</td>\n",
       "      <td>62.35</td>\n",
       "    </tr>\n",
       "    <tr>\n",
       "      <th>12</th>\n",
       "      <td>55.470721</td>\n",
       "      <td>61.27</td>\n",
       "    </tr>\n",
       "    <tr>\n",
       "      <th>13</th>\n",
       "      <td>62.275451</td>\n",
       "      <td>60.00</td>\n",
       "    </tr>\n",
       "    <tr>\n",
       "      <th>14</th>\n",
       "      <td>137.424832</td>\n",
       "      <td>113.00</td>\n",
       "    </tr>\n",
       "    <tr>\n",
       "      <th>15</th>\n",
       "      <td>88.969790</td>\n",
       "      <td>125.00</td>\n",
       "    </tr>\n",
       "    <tr>\n",
       "      <th>16</th>\n",
       "      <td>55.470721</td>\n",
       "      <td>69.47</td>\n",
       "    </tr>\n",
       "    <tr>\n",
       "      <th>17</th>\n",
       "      <td>153.928232</td>\n",
       "      <td>91.87</td>\n",
       "    </tr>\n",
       "    <tr>\n",
       "      <th>18</th>\n",
       "      <td>43.545683</td>\n",
       "      <td>40.09</td>\n",
       "    </tr>\n",
       "    <tr>\n",
       "      <th>19</th>\n",
       "      <td>43.226262</td>\n",
       "      <td>46.95</td>\n",
       "    </tr>\n",
       "  </tbody>\n",
       "</table>\n",
       "</div>"
      ],
      "text/plain": [
       "    Linear_model_predictions  True_outcomes\n",
       "0                  35.124696          26.75\n",
       "1                  64.095078          51.24\n",
       "2                  37.902585          44.00\n",
       "3                  89.724682          67.10\n",
       "4                  35.453693          49.44\n",
       "5                  62.072081          73.93\n",
       "6                  98.561986          63.83\n",
       "7                  43.013315          41.12\n",
       "8                  96.751936          55.00\n",
       "9                 104.940823          78.40\n",
       "10                152.650550         201.00\n",
       "11                 57.280771          62.35\n",
       "12                 55.470721          61.27\n",
       "13                 62.275451          60.00\n",
       "14                137.424832         113.00\n",
       "15                 88.969790         125.00\n",
       "16                 55.470721          69.47\n",
       "17                153.928232          91.87\n",
       "18                 43.545683          40.09\n",
       "19                 43.226262          46.95"
      ]
     },
     "execution_count": 531,
     "metadata": {},
     "output_type": "execute_result"
    }
   ],
   "source": [
    "df1"
   ]
  },
  {
   "cell_type": "code",
   "execution_count": 532,
   "id": "a2709271",
   "metadata": {},
   "outputs": [
    {
     "data": {
      "text/plain": [
       "<matplotlib.legend.Legend at 0x18ba86bc7f0>"
      ]
     },
     "execution_count": 532,
     "metadata": {},
     "output_type": "execute_result"
    },
    {
     "data": {
      "image/png": "[encoded data removed]",
      "text/plain": [
       "<Figure size 432x288 with 1 Axes>"
      ]
     },
     "metadata": {
      "needs_background": "light"
     },
     "output_type": "display_data"
    }
   ],
   "source": [
    "df1.plot()\n",
    "plt.legend(bbox_to_anchor=(1.53, 1))"
   ]
  },
  {
   "cell_type": "code",
   "execution_count": 533,
   "id": "6f6bbe67",
   "metadata": {},
   "outputs": [],
   "source": [
    "c = pd.DataFrame(deep_model_pred, columns=['Seq_model_predictions'])"
   ]
  },
  {
   "cell_type": "code",
   "execution_count": 534,
   "id": "397a809d",
   "metadata": {},
   "outputs": [],
   "source": [
    "df2 = pd.concat([b, c], axis=1)"
   ]
  },
  {
   "cell_type": "code",
   "execution_count": 535,
   "id": "a588f330",
   "metadata": {},
   "outputs": [
    {
     "data": {
      "text/html": [
       "<div>\n",
       "<style scoped>\n",
       "    .dataframe tbody tr th:only-of-type {\n",
       "        vertical-align: middle;\n",
       "    }\n",
       "\n",
       "    .dataframe tbody tr th {\n",
       "        vertical-align: top;\n",
       "    }\n",
       "\n",
       "    .dataframe thead th {\n",
       "        text-align: right;\n",
       "    }\n",
       "</style>\n",
       "<table border=\"1\" class=\"dataframe\">\n",
       "  <thead>\n",
       "    <tr style=\"text-align: right;\">\n",
       "      <th></th>\n",
       "      <th>True_outcomes</th>\n",
       "      <th>Seq_model_predictions</th>\n",
       "    </tr>\n",
       "  </thead>\n",
       "  <tbody>\n",
       "    <tr>\n",
       "      <th>0</th>\n",
       "      <td>26.75</td>\n",
       "      <td>39.461018</td>\n",
       "    </tr>\n",
       "    <tr>\n",
       "      <th>1</th>\n",
       "      <td>51.24</td>\n",
       "      <td>56.405136</td>\n",
       "    </tr>\n",
       "    <tr>\n",
       "      <th>2</th>\n",
       "      <td>44.00</td>\n",
       "      <td>42.189362</td>\n",
       "    </tr>\n",
       "    <tr>\n",
       "      <th>3</th>\n",
       "      <td>67.10</td>\n",
       "      <td>95.762360</td>\n",
       "    </tr>\n",
       "    <tr>\n",
       "      <th>4</th>\n",
       "      <td>49.44</td>\n",
       "      <td>40.860245</td>\n",
       "    </tr>\n",
       "    <tr>\n",
       "      <th>5</th>\n",
       "      <td>73.93</td>\n",
       "      <td>55.307175</td>\n",
       "    </tr>\n",
       "    <tr>\n",
       "      <th>6</th>\n",
       "      <td>63.83</td>\n",
       "      <td>101.848213</td>\n",
       "    </tr>\n",
       "    <tr>\n",
       "      <th>7</th>\n",
       "      <td>41.12</td>\n",
       "      <td>44.963173</td>\n",
       "    </tr>\n",
       "    <tr>\n",
       "      <th>8</th>\n",
       "      <td>55.00</td>\n",
       "      <td>100.282501</td>\n",
       "    </tr>\n",
       "    <tr>\n",
       "      <th>9</th>\n",
       "      <td>78.40</td>\n",
       "      <td>101.076965</td>\n",
       "    </tr>\n",
       "    <tr>\n",
       "      <th>10</th>\n",
       "      <td>201.00</td>\n",
       "      <td>148.634964</td>\n",
       "    </tr>\n",
       "    <tr>\n",
       "      <th>11</th>\n",
       "      <td>62.35</td>\n",
       "      <td>52.706722</td>\n",
       "    </tr>\n",
       "    <tr>\n",
       "      <th>12</th>\n",
       "      <td>61.27</td>\n",
       "      <td>51.724339</td>\n",
       "    </tr>\n",
       "    <tr>\n",
       "      <th>13</th>\n",
       "      <td>60.00</td>\n",
       "      <td>54.120407</td>\n",
       "    </tr>\n",
       "    <tr>\n",
       "      <th>14</th>\n",
       "      <td>113.00</td>\n",
       "      <td>135.464676</td>\n",
       "    </tr>\n",
       "    <tr>\n",
       "      <th>15</th>\n",
       "      <td>125.00</td>\n",
       "      <td>92.453804</td>\n",
       "    </tr>\n",
       "    <tr>\n",
       "      <th>16</th>\n",
       "      <td>69.47</td>\n",
       "      <td>51.724339</td>\n",
       "    </tr>\n",
       "    <tr>\n",
       "      <th>17</th>\n",
       "      <td>91.87</td>\n",
       "      <td>149.740173</td>\n",
       "    </tr>\n",
       "    <tr>\n",
       "      <th>18</th>\n",
       "      <td>40.09</td>\n",
       "      <td>45.252117</td>\n",
       "    </tr>\n",
       "    <tr>\n",
       "      <th>19</th>\n",
       "      <td>46.95</td>\n",
       "      <td>45.078751</td>\n",
       "    </tr>\n",
       "  </tbody>\n",
       "</table>\n",
       "</div>"
      ],
      "text/plain": [
       "    True_outcomes  Seq_model_predictions\n",
       "0           26.75              39.461018\n",
       "1           51.24              56.405136\n",
       "2           44.00              42.189362\n",
       "3           67.10              95.762360\n",
       "4           49.44              40.860245\n",
       "5           73.93              55.307175\n",
       "6           63.83             101.848213\n",
       "7           41.12              44.963173\n",
       "8           55.00             100.282501\n",
       "9           78.40             101.076965\n",
       "10         201.00             148.634964\n",
       "11          62.35              52.706722\n",
       "12          61.27              51.724339\n",
       "13          60.00              54.120407\n",
       "14         113.00             135.464676\n",
       "15         125.00              92.453804\n",
       "16          69.47              51.724339\n",
       "17          91.87             149.740173\n",
       "18          40.09              45.252117\n",
       "19          46.95              45.078751"
      ]
     },
     "execution_count": 535,
     "metadata": {},
     "output_type": "execute_result"
    }
   ],
   "source": [
    "df2"
   ]
  },
  {
   "cell_type": "code",
   "execution_count": 536,
   "id": "9dbc4909",
   "metadata": {},
   "outputs": [
    {
     "data": {
      "text/plain": [
       "<matplotlib.legend.Legend at 0x18ba8bfe880>"
      ]
     },
     "execution_count": 536,
     "metadata": {},
     "output_type": "execute_result"
    },
    {
     "data": {
      "image/png": "[encoded data removed]",
      "text/plain": [
       "<Figure size 432x288 with 1 Axes>"
      ]
     },
     "metadata": {
      "needs_background": "light"
     },
     "output_type": "display_data"
    }
   ],
   "source": [
    "df2.plot()\n",
    "plt.legend(bbox_to_anchor=(1.5, 1))"
   ]
  },
  {
   "cell_type": "code",
   "execution_count": null,
   "id": "74a4c54f",
   "metadata": {},
   "outputs": [],
   "source": []
  },
  {
   "cell_type": "code",
   "execution_count": null,
   "id": "6cedf756",
   "metadata": {},
   "outputs": [],
   "source": []
  }
 ],
 "metadata": {
  "kernelspec": {
   "display_name": "Python 3 (ipykernel)",
   "language": "python",
   "name": "python3"
  },
  "language_info": {
   "codemirror_mode": {
    "name": "ipython",
    "version": 3
   },
   "file_extension": ".py",
   "mimetype": "text/x-python",
   "name": "python",
   "nbconvert_exporter": "python",
   "pygments_lexer": "ipython3",
   "version": "3.9.7"
  }
 },
 "nbformat": 4,
 "nbformat_minor": 5
}
